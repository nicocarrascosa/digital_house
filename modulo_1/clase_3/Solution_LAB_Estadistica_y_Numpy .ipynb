{
 "cells": [
  {
   "cell_type": "markdown",
   "metadata": {},
   "source": [
    "## Laboratorio Arreglos y Matrices\n",
    "\n",
    "\n",
    "Ejecuta la celda de abajo para cargar los paquetes requeridos"
   ]
  },
  {
   "cell_type": "code",
   "execution_count": 1,
   "metadata": {
    "collapsed": true
   },
   "outputs": [],
   "source": [
    "import numpy as np\n",
    "import pandas as pd"
   ]
  },
  {
   "cell_type": "markdown",
   "metadata": {},
   "source": [
    "### Datos de ventas\n",
    "\n",
    "Para este lab vamos a estar usando una versión de datos de ventas de vinos en diferentes sucursales (archivo ```volumen_ventas_producto_sucursal.csv```) y el precio de cada vino (```precio_producto.csv```)"
   ]
  },
  {
   "cell_type": "markdown",
   "metadata": {},
   "source": [
    "#### Importar Ventas"
   ]
  },
  {
   "cell_type": "code",
   "execution_count": 2,
   "metadata": {},
   "outputs": [
    {
     "data": {
      "text/html": [
       "<div>\n",
       "<style>\n",
       "    .dataframe thead tr:only-child th {\n",
       "        text-align: right;\n",
       "    }\n",
       "\n",
       "    .dataframe thead th {\n",
       "        text-align: left;\n",
       "    }\n",
       "\n",
       "    .dataframe tbody tr th {\n",
       "        vertical-align: top;\n",
       "    }\n",
       "</style>\n",
       "<table border=\"1\" class=\"dataframe\">\n",
       "  <thead>\n",
       "    <tr style=\"text-align: right;\">\n",
       "      <th></th>\n",
       "      <th>producto</th>\n",
       "      <th>Sucursal 1</th>\n",
       "      <th>Sucursal 2</th>\n",
       "      <th>Sucursal 3</th>\n",
       "      <th>Sucursal 4</th>\n",
       "      <th>Sucursal 5</th>\n",
       "      <th>Sucursal 6</th>\n",
       "      <th>Sucursal 7</th>\n",
       "    </tr>\n",
       "  </thead>\n",
       "  <tbody>\n",
       "    <tr>\n",
       "      <th>0</th>\n",
       "      <td>Malbec</td>\n",
       "      <td>429</td>\n",
       "      <td>106</td>\n",
       "      <td>437</td>\n",
       "      <td>177</td>\n",
       "      <td>200</td>\n",
       "      <td>412</td>\n",
       "      <td>309</td>\n",
       "    </tr>\n",
       "    <tr>\n",
       "      <th>1</th>\n",
       "      <td>Cabernet</td>\n",
       "      <td>244</td>\n",
       "      <td>111</td>\n",
       "      <td>282</td>\n",
       "      <td>238</td>\n",
       "      <td>144</td>\n",
       "      <td>198</td>\n",
       "      <td>331</td>\n",
       "    </tr>\n",
       "    <tr>\n",
       "      <th>2</th>\n",
       "      <td>Syrah</td>\n",
       "      <td>374</td>\n",
       "      <td>278</td>\n",
       "      <td>241</td>\n",
       "      <td>408</td>\n",
       "      <td>177</td>\n",
       "      <td>381</td>\n",
       "      <td>237</td>\n",
       "    </tr>\n",
       "    <tr>\n",
       "      <th>3</th>\n",
       "      <td>Caberne Franc</td>\n",
       "      <td>449</td>\n",
       "      <td>291</td>\n",
       "      <td>461</td>\n",
       "      <td>484</td>\n",
       "      <td>452</td>\n",
       "      <td>388</td>\n",
       "      <td>466</td>\n",
       "    </tr>\n",
       "    <tr>\n",
       "      <th>4</th>\n",
       "      <td>Merlot</td>\n",
       "      <td>222</td>\n",
       "      <td>494</td>\n",
       "      <td>436</td>\n",
       "      <td>252</td>\n",
       "      <td>161</td>\n",
       "      <td>187</td>\n",
       "      <td>337</td>\n",
       "    </tr>\n",
       "    <tr>\n",
       "      <th>5</th>\n",
       "      <td>Pinot noir</td>\n",
       "      <td>335</td>\n",
       "      <td>137</td>\n",
       "      <td>233</td>\n",
       "      <td>487</td>\n",
       "      <td>394</td>\n",
       "      <td>488</td>\n",
       "      <td>331</td>\n",
       "    </tr>\n",
       "  </tbody>\n",
       "</table>\n",
       "</div>"
      ],
      "text/plain": [
       "        producto  Sucursal 1  Sucursal 2  Sucursal 3  Sucursal 4  Sucursal 5  \\\n",
       "0         Malbec         429         106         437         177         200   \n",
       "1       Cabernet         244         111         282         238         144   \n",
       "2          Syrah         374         278         241         408         177   \n",
       "3  Caberne Franc         449         291         461         484         452   \n",
       "4         Merlot         222         494         436         252         161   \n",
       "5     Pinot noir         335         137         233         487         394   \n",
       "\n",
       "   Sucursal 6  Sucursal 7  \n",
       "0         412         309  \n",
       "1         198         331  \n",
       "2         381         237  \n",
       "3         388         466  \n",
       "4         187         337  \n",
       "5         488         331  "
      ]
     },
     "execution_count": 2,
     "metadata": {},
     "output_type": "execute_result"
    }
   ],
   "source": [
    "sales = pd.read_csv('volumen_ventas_producto_sucursal.csv')\n",
    "sales.head(10)"
   ]
  },
  {
   "cell_type": "markdown",
   "metadata": {},
   "source": [
    "#### Importar precios"
   ]
  },
  {
   "cell_type": "code",
   "execution_count": 3,
   "metadata": {},
   "outputs": [
    {
     "data": {
      "text/html": [
       "<div>\n",
       "<style>\n",
       "    .dataframe thead tr:only-child th {\n",
       "        text-align: right;\n",
       "    }\n",
       "\n",
       "    .dataframe thead th {\n",
       "        text-align: left;\n",
       "    }\n",
       "\n",
       "    .dataframe tbody tr th {\n",
       "        vertical-align: top;\n",
       "    }\n",
       "</style>\n",
       "<table border=\"1\" class=\"dataframe\">\n",
       "  <thead>\n",
       "    <tr style=\"text-align: right;\">\n",
       "      <th></th>\n",
       "      <th>producto</th>\n",
       "      <th>Precio</th>\n",
       "    </tr>\n",
       "  </thead>\n",
       "  <tbody>\n",
       "    <tr>\n",
       "      <th>0</th>\n",
       "      <td>Malbec</td>\n",
       "      <td>208</td>\n",
       "    </tr>\n",
       "    <tr>\n",
       "      <th>1</th>\n",
       "      <td>Cabernet</td>\n",
       "      <td>216</td>\n",
       "    </tr>\n",
       "    <tr>\n",
       "      <th>2</th>\n",
       "      <td>Syrah</td>\n",
       "      <td>247</td>\n",
       "    </tr>\n",
       "    <tr>\n",
       "      <th>3</th>\n",
       "      <td>Caberne Franc</td>\n",
       "      <td>180</td>\n",
       "    </tr>\n",
       "    <tr>\n",
       "      <th>4</th>\n",
       "      <td>Merlot</td>\n",
       "      <td>180</td>\n",
       "    </tr>\n",
       "  </tbody>\n",
       "</table>\n",
       "</div>"
      ],
      "text/plain": [
       "        producto  Precio\n",
       "0         Malbec     208\n",
       "1       Cabernet     216\n",
       "2          Syrah     247\n",
       "3  Caberne Franc     180\n",
       "4         Merlot     180"
      ]
     },
     "execution_count": 3,
     "metadata": {},
     "output_type": "execute_result"
    }
   ],
   "source": [
    "precios = pd.read_csv('precio_producto.csv')\n",
    "precios.head()"
   ]
  },
  {
   "cell_type": "markdown",
   "metadata": {
    "collapsed": true
   },
   "source": [
    "#### 1. Calcular la cantidad de unidades vendidas para cada sucursal\n",
    "\n",
    "Utilizar la matriz_ventas y funciones de numpy\n",
    "Primero transformar el dataframe de pandas en un array con las funciones iloc y values"
   ]
  },
  {
   "cell_type": "code",
   "execution_count": 4,
   "metadata": {
    "collapsed": true
   },
   "outputs": [],
   "source": [
    "ventas_np = sales.iloc[:,1:].values"
   ]
  },
  {
   "cell_type": "code",
   "execution_count": 5,
   "metadata": {},
   "outputs": [
    {
     "data": {
      "text/plain": [
       "array([2053, 1417, 2090, 2046, 1528, 2054, 2011], dtype=int64)"
      ]
     },
     "execution_count": 5,
     "metadata": {},
     "output_type": "execute_result"
    }
   ],
   "source": [
    "#acá código\n",
    "ventas_por_sucursal = ventas_np.sum(axis=0)\n",
    "ventas_por_sucursal"
   ]
  },
  {
   "cell_type": "markdown",
   "metadata": {},
   "source": [
    "#### 2. Calcular la cantidad de unidades vendidas para cada producto\n",
    "\n",
    "Utilizar la matriz_ventas y funciones de numpy"
   ]
  },
  {
   "cell_type": "code",
   "execution_count": 6,
   "metadata": {},
   "outputs": [
    {
     "data": {
      "text/plain": [
       "array([2070, 1548, 2096, 2991, 2089, 2405], dtype=int64)"
      ]
     },
     "execution_count": 6,
     "metadata": {},
     "output_type": "execute_result"
    }
   ],
   "source": [
    "#acá código\n",
    "ventas_por_producto = ventas_np.sum(axis=1)\n",
    "ventas_por_producto"
   ]
  },
  {
   "cell_type": "markdown",
   "metadata": {},
   "source": [
    "#### 3. Calcular cuál es el producto que más vendió cada sucursal\n"
   ]
  },
  {
   "cell_type": "code",
   "execution_count": 7,
   "metadata": {},
   "outputs": [
    {
     "name": "stdout",
     "output_type": "stream",
     "text": [
      "(6, 7)\n"
     ]
    },
    {
     "data": {
      "text/plain": [
       "array([[429, 106, 437, 177, 200, 412, 309],\n",
       "       [244, 111, 282, 238, 144, 198, 331],\n",
       "       [374, 278, 241, 408, 177, 381, 237],\n",
       "       [449, 291, 461, 484, 452, 388, 466],\n",
       "       [222, 494, 436, 252, 161, 187, 337],\n",
       "       [335, 137, 233, 487, 394, 488, 331]], dtype=int64)"
      ]
     },
     "execution_count": 7,
     "metadata": {},
     "output_type": "execute_result"
    }
   ],
   "source": [
    "print(ventas_np.shape)\n",
    "ventas_np"
   ]
  },
  {
   "cell_type": "code",
   "execution_count": 8,
   "metadata": {},
   "outputs": [
    {
     "data": {
      "text/plain": [
       "array([3, 4, 3, 5, 3, 5, 3], dtype=int64)"
      ]
     },
     "execution_count": 8,
     "metadata": {},
     "output_type": "execute_result"
    }
   ],
   "source": [
    "np.argmax(ventas_np, axis=0)"
   ]
  },
  {
   "cell_type": "code",
   "execution_count": 9,
   "metadata": {},
   "outputs": [
    {
     "name": "stdout",
     "output_type": "stream",
     "text": [
      "Vinos más vendidos:\n",
      "[array(['M', 'C', 'S', 'CF', 'M', 'PN'], \n",
      "      dtype='<U2')\n",
      " array(['CF', 'M', 'CF', 'PN', 'CF', 'PN', 'CF'], \n",
      "      dtype='<U2')]\n"
     ]
    }
   ],
   "source": [
    "#acá código\n",
    "max_ventas = np.argmax(ventas_np, axis=0)\n",
    "vinos = np.array(['M', 'C', 'S', 'CF','M','PN'])\n",
    "print (\"Vinos más vendidos:\")\n",
    "vinos[max_ventas ]\n",
    "\n",
    "# Combino los dos vectores en un arary de una dimensión más.\n",
    "print (np.array([vinos,vinos[max_ventas ]]))"
   ]
  },
  {
   "cell_type": "markdown",
   "metadata": {},
   "source": [
    "#### 4. Calcular cuál es la sucursal que más vendió cada producto\n"
   ]
  },
  {
   "cell_type": "code",
   "execution_count": 10,
   "metadata": {},
   "outputs": [
    {
     "name": "stdout",
     "output_type": "stream",
     "text": [
      "Sucursal que más vendió:\n",
      "[['M' 'C' 'S' 'CF' 'M' 'PN']\n",
      " ['S3' 'S7' 'S4' 'S4' 'S2' 'S6']]\n"
     ]
    }
   ],
   "source": [
    "#acá código\n",
    "max_ventas = np.argmax(ventas_np, axis=1)\n",
    "sucursales = np.array(['S1', 'S2', 'S3', 'S4','S5','S6','S7'])\n",
    "print (\"Sucursal que más vendió:\")\n",
    "sucursales[max_ventas ]\n",
    "\n",
    "# Combino los dos vectores en un arary de una dimensión más.\n",
    "print (np.array([vinos,sucursales[max_ventas ]]))"
   ]
  },
  {
   "cell_type": "markdown",
   "metadata": {},
   "source": [
    "#### 5. Calcular la facturación para cada sucursal\n",
    "\n",
    "Puedes utilizar una multiplicación vectorizada para calcular la facturación para cada sucursal (es decir la sumatoria de la facturación de cada producto vendido (precio de cada vino  * cantidad vendida)."
   ]
  },
  {
   "cell_type": "code",
   "execution_count": 44,
   "metadata": {},
   "outputs": [
    {
     "data": {
      "text/plain": [
       "(array([[429, 106, 437, 177, 200, 412, 309],\n",
       "        [244, 111, 282, 238, 144, 198, 331],\n",
       "        [374, 278, 241, 408, 177, 381, 237],\n",
       "        [449, 291, 461, 484, 452, 388, 466],\n",
       "        [222, 494, 436, 252, 161, 187, 337],\n",
       "        [335, 137, 233, 487, 394, 488, 331]], dtype=int64), (6, 7))"
      ]
     },
     "execution_count": 44,
     "metadata": {},
     "output_type": "execute_result"
    }
   ],
   "source": [
    "ventas_np, ventas_np.shape"
   ]
  },
  {
   "cell_type": "code",
   "execution_count": 45,
   "metadata": {},
   "outputs": [
    {
     "name": "stdout",
     "output_type": "stream",
     "text": [
      "(6,)\n",
      "(1, 6)\n"
     ]
    }
   ],
   "source": [
    "#código acá\n",
    "preciosv = np.matrix(precios.iloc[:,1])\n",
    "print(precios.iloc[:,1].shape)\n",
    "print(preciosv.shape)"
   ]
  },
  {
   "cell_type": "markdown",
   "metadata": {},
   "source": [
    "* ¿Qué observas sobre la transformación de los datos originales y la función *np.matrix()*?"
   ]
  },
  {
   "cell_type": "markdown",
   "metadata": {},
   "source": [
    "Como ambos arrays o matrices tienen una conformación de 6 elementos y esta dimensión coincide, es posible multiplicarlos directamente como si fuese una operación escalar. El resultado será la suma de los productos (precios * cantidad)."
   ]
  },
  {
   "cell_type": "code",
   "execution_count": 46,
   "metadata": {},
   "outputs": [
    {
     "data": {
      "text/plain": [
       "matrix([[436499, 289281, 429414, 439821, 322505, 444655, 419280]], dtype=int64)"
      ]
     },
     "execution_count": 46,
     "metadata": {},
     "output_type": "execute_result"
    }
   ],
   "source": [
    "totalxSuc = preciosv * ventas_np\n",
    "totalxSuc"
   ]
  },
  {
   "cell_type": "code",
   "execution_count": null,
   "metadata": {
    "collapsed": true
   },
   "outputs": [],
   "source": []
  }
 ],
 "metadata": {
  "kernelspec": {
   "display_name": "Python 3",
   "language": "python",
   "name": "python3"
  },
  "language_info": {
   "codemirror_mode": {
    "name": "ipython",
    "version": 3
   },
   "file_extension": ".py",
   "mimetype": "text/x-python",
   "name": "python",
   "nbconvert_exporter": "python",
   "pygments_lexer": "ipython3",
   "version": "3.6.3"
  }
 },
 "nbformat": 4,
 "nbformat_minor": 1
}
