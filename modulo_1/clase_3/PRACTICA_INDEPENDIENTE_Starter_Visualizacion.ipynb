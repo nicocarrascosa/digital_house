{
 "cells": [
  {
   "cell_type": "markdown",
   "metadata": {},
   "source": [
    "# Visualización con *salary.csv*"
   ]
  },
  {
   "cell_type": "markdown",
   "metadata": {},
   "source": [
    "El dataset *salary.csv* contiene salarios de profesores universitarios de una universidad de Estados Unidos. Nos han solicitado analizar gráficamente el dataset y detectar discrepancias de ingresos entre grupos distintos."
   ]
  },
  {
   "cell_type": "markdown",
   "metadata": {},
   "source": [
    "### Importamos los paquetes requeridos "
   ]
  },
  {
   "cell_type": "code",
   "execution_count": null,
   "metadata": {
    "collapsed": true
   },
   "outputs": [],
   "source": [
    "# Paquetes numéricos y estadísticos\n",
    "import numpy as np\n",
    "import scipy.stats as stats\n",
    "\n",
    "# Pandas maneja la carga y manipulación del dataset\n",
    "import pandas as pd\n",
    "\n",
    "# Funciones de plotting\n",
    "import matplotlib.pyplot as plt\n",
    "import seaborn as sns\n",
    "\n",
    "# Configurar matplotlib para que se muestre en la notebook (sin necesidad de usar plt.show())\n",
    "%matplotlib inline"
   ]
  },
  {
   "cell_type": "markdown",
   "metadata": {},
   "source": [
    "### Cargamos los datos"
   ]
  },
  {
   "cell_type": "code",
   "execution_count": null,
   "metadata": {
    "collapsed": true
   },
   "outputs": [],
   "source": [
    "# Cargá el dataset con pandas (ver práctica guiada)\n",
    "salary = pd.read_csv('salary.csv')"
   ]
  },
  {
   "cell_type": "code",
   "execution_count": null,
   "metadata": {
    "collapsed": true
   },
   "outputs": [],
   "source": [
    "# Chequeá las primeras líneas del dataset\n",
    "salary.head()"
   ]
  },
  {
   "cell_type": "markdown",
   "metadata": {},
   "source": [
    "* ¿El nombre de las columnas es suficientemente claro? "
   ]
  },
  {
   "cell_type": "code",
   "execution_count": null,
   "metadata": {
    "collapsed": true
   },
   "outputs": [],
   "source": [
    "# Imprimí la lista de nombres de columnas\n",
    "salary.columns"
   ]
  },
  {
   "cell_type": "code",
   "execution_count": null,
   "metadata": {
    "collapsed": true
   },
   "outputs": [],
   "source": [
    "# Empleá el el comando .info() para caracterizar los datos del dataframe\n",
    "salary.info()"
   ]
  },
  {
   "cell_type": "markdown",
   "metadata": {},
   "source": [
    "Como conocemos al información de antemano, podemos renombar las columnas para evitar malos entendidos a posteriori. El código para esto es:\n",
    "\n",
    "```salary.columns = ['gender', 'professor_rank', 'years_in_job', 'degree_level', 'years_since_degree', 'yearly_salary']```"
   ]
  },
  {
   "cell_type": "code",
   "execution_count": null,
   "metadata": {
    "collapsed": true
   },
   "outputs": [],
   "source": [
    "# Renombrá los títulos de columnas según la lista de arriba\n"
   ]
  },
  {
   "cell_type": "code",
   "execution_count": null,
   "metadata": {
    "collapsed": true
   },
   "outputs": [],
   "source": [
    "# Usá .head() para chequear el cambio\n"
   ]
  },
  {
   "cell_type": "markdown",
   "metadata": {},
   "source": [
    "#### Describa brevemente el dataset\n",
    "¿Qué información contiene? \n",
    "\n",
    "¿Cuántos casos? \n",
    "\n",
    "¿Qué tipo de datos posee?\n",
    "\n"
   ]
  },
  {
   "cell_type": "markdown",
   "metadata": {},
   "source": [
    "### Ploteo exploratorio de los datos"
   ]
  },
  {
   "cell_type": "markdown",
   "metadata": {},
   "source": [
    "#### Scatter plot de 'antigüedad en el puesto de trabajo' y 'salario anual'"
   ]
  },
  {
   "cell_type": "code",
   "execution_count": null,
   "metadata": {
    "collapsed": true
   },
   "outputs": [],
   "source": [
    "# Construí un subset con los datos que registran variables de interés\n",
    "years_in_job = salary.years_in_job.values\n",
    "yearly_salary = salary.yearly_salary.values"
   ]
  },
  {
   "cell_type": "code",
   "execution_count": null,
   "metadata": {
    "collapsed": true
   },
   "outputs": [],
   "source": [
    "# Chequeá qué forma tienen estos datos\n",
    "years_in_job, yearly_salary"
   ]
  },
  {
   "cell_type": "code",
   "execution_count": null,
   "metadata": {
    "collapsed": true
   },
   "outputs": [],
   "source": [
    "# Corrobá documentación y opciones de ploteo \n",
    "plt.plot?"
   ]
  },
  {
   "cell_type": "code",
   "execution_count": null,
   "metadata": {
    "collapsed": true
   },
   "outputs": [],
   "source": [
    "# Visualizamos las dos series que creamos arriba en un scatter plot con estrellitas azules\n"
   ]
  },
  {
   "cell_type": "markdown",
   "metadata": {},
   "source": [
    "* ¿Consideras adecuado el tamaño de la imagen? ¿Y el tipo o el color del marcador?\n",
    "* Recordá que si colocás *;* al final de la sentencia, dejás que sólo se muestre la imagen"
   ]
  },
  {
   "cell_type": "code",
   "execution_count": null,
   "metadata": {
    "collapsed": true
   },
   "outputs": [],
   "source": [
    "# Buscá opciones de visualización de esta imagen\n",
    "plt.figure?"
   ]
  },
  {
   "cell_type": "code",
   "execution_count": null,
   "metadata": {
    "collapsed": true
   },
   "outputs": [],
   "source": [
    "# Agrandá la imagen y modificá los marcadores, elegí la forma y el color que prefieras\n"
   ]
  },
  {
   "cell_type": "code",
   "execution_count": null,
   "metadata": {
    "collapsed": true
   },
   "outputs": [],
   "source": [
    "# Indagá sobre opciones de leyendas y etiquetas\n",
    "plt.xlabel?\n",
    "#plt.title?"
   ]
  },
  {
   "cell_type": "code",
   "execution_count": null,
   "metadata": {
    "collapsed": true
   },
   "outputs": [],
   "source": [
    "# Replicá el gráfico anterior, incluyendo nombres de los ejes y título al gráfico\n",
    "\n",
    "# Aumentamos el tamaño de los puntos\n",
    "\n",
    "# Nombre eje x\n",
    "\n",
    "# Nombre eje y\n",
    "\n",
    "# Título del gráfico\n"
   ]
  },
  {
   "cell_type": "markdown",
   "metadata": {},
   "source": [
    "#### Ahora exploremos alternativas con el comando sns.jointplot()"
   ]
  },
  {
   "cell_type": "code",
   "execution_count": null,
   "metadata": {
    "collapsed": true
   },
   "outputs": [],
   "source": [
    "# Mirá el comando jointplot de seaborn\n",
    "sns.jointplot?"
   ]
  },
  {
   "cell_type": "code",
   "execution_count": null,
   "metadata": {
    "collapsed": true
   },
   "outputs": [],
   "source": [
    "# Ploteá las dos variables de interés con sus respectivos histogramas\n"
   ]
  },
  {
   "cell_type": "code",
   "execution_count": null,
   "metadata": {
    "collapsed": true
   },
   "outputs": [],
   "source": [
    "# Es posible incluir una regresión lineal entre ambas variables y su distribución conjunta\n",
    "# Identificá qué opciones permite el argumento 'kind' del método joinplot() al respecto\n"
   ]
  },
  {
   "cell_type": "markdown",
   "metadata": {},
   "source": [
    "Aquí hemos trabajado con todos los datos de forma conjunta... pero esto no sería de gran ayuda si, por ejemplo, necesitáramos analizar las diferencias salariales por género o puesto de trabajo."
   ]
  },
  {
   "cell_type": "markdown",
   "metadata": {},
   "source": [
    "#### ¿Sabes que podemos visualizar *todas* las variables de forma conjunta, identificando relaciones por pares?\n",
    "Para ello, aprendamos sobre sns.pairplot()"
   ]
  },
  {
   "cell_type": "code",
   "execution_count": null,
   "metadata": {
    "collapsed": true
   },
   "outputs": [],
   "source": [
    "# Veamos de qué se trata el pairplot de seaborn\n",
    "sns.pairplot?"
   ]
  },
  {
   "cell_type": "code",
   "execution_count": null,
   "metadata": {
    "collapsed": true
   },
   "outputs": [],
   "source": [
    "# Usemos un paneo global de las variables\n"
   ]
  },
  {
   "cell_type": "markdown",
   "metadata": {},
   "source": [
    "Hemos perdido nuestras variables de interés... de las 6 columnas existentes en 'salary', sólo fue posible graficar 3, ¿por qué? ¿qué tipo de dato contienen estas variables? ¿y las omitidas?"
   ]
  },
  {
   "cell_type": "markdown",
   "metadata": {},
   "source": [
    "### Retomemos nuestro análisis... \n",
    "\n",
    "### Ploteo desagregado por categorías"
   ]
  },
  {
   "cell_type": "code",
   "execution_count": null,
   "metadata": {
    "collapsed": true
   },
   "outputs": [],
   "source": [
    "# Definí un subset de nuestro dataset\n",
    "subset = salary[['gender','professor_rank','years_in_job','yearly_salary']] # pido columnas dentro del corchete\n",
    "subset.head()"
   ]
  },
  {
   "cell_type": "markdown",
   "metadata": {},
   "source": [
    "#### Box plots"
   ]
  },
  {
   "cell_type": "code",
   "execution_count": null,
   "metadata": {
    "collapsed": true
   },
   "outputs": [],
   "source": [
    "# Analicemos la distribución de la variable 'ingresos anuales' por género con un boxplot\n",
    "# PISTA: consideremos la variable 'gender' como nuestras 'x' y la variable 'yearly_salary' como nuestras 'y'\n"
   ]
  },
  {
   "cell_type": "code",
   "execution_count": null,
   "metadata": {
    "collapsed": true
   },
   "outputs": [],
   "source": [
    "# De modo análogo, analicemos la distribución de la variable 'ingresos anuales' según el puesto del 'professor_rank'\n"
   ]
  },
  {
   "cell_type": "markdown",
   "metadata": {},
   "source": [
    "A primera visata, será ncesario profundizar nuestro entendimiento sobre las diferencias salariales entre las categorías de 'gender' y 'professor_rank'. Para ello, nos sería de suma utilidad discriminar categorías por forma o color para plotearlas conjuntamente y, a la vez, identificar subgrupos.\n",
    "\n",
    "Veamos cuán factible es combinar ambas variables categóricas..."
   ]
  },
  {
   "cell_type": "markdown",
   "metadata": {},
   "source": [
    "#### Gráfico de barras"
   ]
  },
  {
   "cell_type": "code",
   "execution_count": null,
   "metadata": {
    "collapsed": true
   },
   "outputs": [],
   "source": [
    "# Complementariamente, esta información se puede presentar en un gráfico de barras\n"
   ]
  },
  {
   "cell_type": "markdown",
   "metadata": {},
   "source": [
    "* ¿La media per se refleja la heterogeneidad de cada subgrupo?"
   ]
  },
  {
   "cell_type": "markdown",
   "metadata": {},
   "source": [
    "Para acceder a los valores de la columna podemos usar distintas opciones:\n",
    "\n",
    "* ```salary.gender.values```\n",
    "\n",
    "* ```salary[['gender']].values```"
   ]
  },
  {
   "cell_type": "code",
   "execution_count": null,
   "metadata": {
    "collapsed": true
   },
   "outputs": [],
   "source": [
    "# Construimos variables que nos permitan realizar la desagregación deseada\n",
    "gender = salary.gender.values\n",
    "rank = salary.professor_rank.values\n",
    "\n",
    "# Identificamos las categorías de cada variable, llamando una única vez a cada categoría\n",
    "gender_values = np.unique(gender)\n",
    "rank_values = np.unique(rank)\n",
    "\n",
    "print(\"Valores de Gender: \", gender_values)\n",
    "print(\"Valores de Rank: \", rank_values)"
   ]
  },
  {
   "cell_type": "markdown",
   "metadata": {},
   "source": [
    "* ¿Que se observa respecto de la cantidad de observaciones desagregada por categoría? ¿Y respecto de la brecha de ingresos?"
   ]
  },
  {
   "cell_type": "markdown",
   "metadata": {},
   "source": [
    "#### Hay una funciòn que nos permite graficar estas categorías de forma separada: sns.FacetGrid()"
   ]
  },
  {
   "cell_type": "code",
   "execution_count": null,
   "metadata": {
    "collapsed": true
   },
   "outputs": [],
   "source": [
    "# veamos de qué se trata el FacetGrid de seaborn\n",
    "sns.FacetGrid?"
   ]
  },
  {
   "cell_type": "code",
   "execution_count": null,
   "metadata": {
    "collapsed": true
   },
   "outputs": [],
   "source": [
    "# con FACETGRID podemos plotear todas las combinaciones posibles a partir de las categorías de nuestras variables\n"
   ]
  },
  {
   "cell_type": "markdown",
   "metadata": {},
   "source": [
    "#### Scatter plot combinado"
   ]
  },
  {
   "cell_type": "code",
   "execution_count": null,
   "metadata": {
    "collapsed": true
   },
   "outputs": [],
   "source": [
    "plt.style.use('fivethirtyeight')\n",
    "fig = plt.figure(figsize=(12,8))\n",
    "axes = fig.gca()\n",
    "\n",
    "# a partir de las nuevas variables, generamos un loop\n",
    "for g in gender_values:\n",
    "    if g == 'female':\n",
    "        color = 'darkred'\n",
    "    elif g == 'male':\n",
    "        color = 'steelblue'\n",
    "        \n",
    "    for r in rank_values:        \n",
    "        if r == 'full':\n",
    "            # Representa el punto como un '+'\n",
    "            point_marker = '+'\n",
    "        elif r == 'associate':\n",
    "            # Representa el punto como un cuadrado ('s' de square en inglés)\n",
    "            point_marker = 's'\n",
    "        elif r == 'assistant':\n",
    "            # Representa el punto como un triangulo con punta hacia arriba\n",
    "            point_marker = '^'\n",
    "            \n",
    "        current_years = [y for y, g_, r_ in zip(years_in_job, gender, rank) if g_ == g and r_ == r]\n",
    "        current_salaries = [s for s, g_, r_ in zip(yearly_salary, gender, rank) if g_ == g and r_ == r]\n",
    "\n",
    "        axes.scatter(current_years, current_salaries, c=color, marker=point_marker, s=150,\n",
    "                     label=' '.join([r, g]))\n",
    "\n",
    "axes.set_title('Antigüedad vs Salario', fontsize=20)\n",
    "axes.set_xlabel('Antigüedad en el puesto de trabajo', fontsize=16)\n",
    "axes.set_ylabel('Salario anual', fontsize=16)\n",
    "\n",
    "handles, labels = plt.gca().get_legend_handles_labels()\n",
    "by_label = {l:h for l, h in zip(labels, handles)}\n",
    "plt.legend(by_label.values(), by_label.keys(), loc = 'center right', fontsize=12);"
   ]
  },
  {
   "cell_type": "code",
   "execution_count": null,
   "metadata": {
    "collapsed": true
   },
   "outputs": [],
   "source": []
  }
 ],
 "metadata": {
  "kernelspec": {
   "display_name": "Python 3",
   "language": "python",
   "name": "python3"
  },
  "language_info": {
   "codemirror_mode": {
    "name": "ipython",
    "version": 3
   },
   "file_extension": ".py",
   "mimetype": "text/x-python",
   "name": "python",
   "nbconvert_exporter": "python",
   "pygments_lexer": "ipython3",
   "version": "3.6.4"
  }
 },
 "nbformat": 4,
 "nbformat_minor": 2
}
