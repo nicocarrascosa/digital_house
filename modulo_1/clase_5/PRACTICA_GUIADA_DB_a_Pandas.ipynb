{
 "cells": [
  {
   "cell_type": "markdown",
   "metadata": {},
   "source": [
    "# Práctica Guiada: Datasets de tablas múltiples- Archivo ENRON"
   ]
  },
  {
   "cell_type": "markdown",
   "metadata": {},
   "source": [
    "* En esta actividad se explorará un subconjunto de datos de la Base de Datos de E-mails de Enron.\n",
    "\n",
    "* Este dataset fue preparado y recopilado por el Proyecto CALO (A Cognitive Assistant that Learns and Organizes).\n",
    "\n",
    "* El dataset original contiene datos de unos 150 usuarios, la mayoría gerentes de Enron y aproximadamente 0,5 millones de mensajes.\n",
    "\n",
    "* Estos datos fueron publicados en la web por la Comisión Regulatoria de Energía Federal (EEUU) durante su investigación."
   ]
  },
  {
   "cell_type": "markdown",
   "metadata": {},
   "source": [
    "## 1. Importar datos\n",
    "\n",
    "Conectarse al archivo 'enron.db' utilizando alguno de los siguientes métidos:\n",
    "\n",
    "- Paquete sqlite3 de Python\n",
    "- pandas.read_sql\n",
    "- SQLite Manager Firefox extension, DB Browser for SQLite, etc.\n",
    "\n",
    "Observar la base de datos y consultar la tabla maestra. ¿Cuántas tablas hay en la Base de Datos?\n",
    "\n",
    "> Respuesta:\n",
    "Hay 3 tablas:\n",
    "- MessageBase\n",
    "- RecipientBase\n",
    "- EmployeeBase\n",
    "\n",
    "Recordá intalar bkcharts con: \n",
    "> `conda install -c anaconda bkcharts`"
   ]
  },
  {
   "cell_type": "code",
   "execution_count": 1,
   "metadata": {},
   "outputs": [
    {
     "data": {
      "text/html": [
       "<div>\n",
       "<style>\n",
       "    .dataframe thead tr:only-child th {\n",
       "        text-align: right;\n",
       "    }\n",
       "\n",
       "    .dataframe thead th {\n",
       "        text-align: left;\n",
       "    }\n",
       "\n",
       "    .dataframe tbody tr th {\n",
       "        vertical-align: top;\n",
       "    }\n",
       "</style>\n",
       "<table border=\"1\" class=\"dataframe\">\n",
       "  <thead>\n",
       "    <tr style=\"text-align: right;\">\n",
       "      <th></th>\n",
       "      <th>type</th>\n",
       "      <th>name</th>\n",
       "      <th>tbl_name</th>\n",
       "      <th>rootpage</th>\n",
       "      <th>sql</th>\n",
       "    </tr>\n",
       "  </thead>\n",
       "  <tbody>\n",
       "    <tr>\n",
       "      <th>0</th>\n",
       "      <td>table</td>\n",
       "      <td>MessageBase</td>\n",
       "      <td>MessageBase</td>\n",
       "      <td>3</td>\n",
       "      <td>CREATE TABLE MessageBase (\\n    mid INTEGER,\\n...</td>\n",
       "    </tr>\n",
       "    <tr>\n",
       "      <th>1</th>\n",
       "      <td>table</td>\n",
       "      <td>RecipientBase</td>\n",
       "      <td>RecipientBase</td>\n",
       "      <td>5</td>\n",
       "      <td>CREATE TABLE RecipientBase (\\n    mid INTEGER,...</td>\n",
       "    </tr>\n",
       "    <tr>\n",
       "      <th>2</th>\n",
       "      <td>table</td>\n",
       "      <td>EmployeeBase</td>\n",
       "      <td>EmployeeBase</td>\n",
       "      <td>2</td>\n",
       "      <td>CREATE TABLE EmployeeBase (\\n                 ...</td>\n",
       "    </tr>\n",
       "  </tbody>\n",
       "</table>\n",
       "</div>"
      ],
      "text/plain": [
       "    type           name       tbl_name  rootpage  \\\n",
       "0  table    MessageBase    MessageBase         3   \n",
       "1  table  RecipientBase  RecipientBase         5   \n",
       "2  table   EmployeeBase   EmployeeBase         2   \n",
       "\n",
       "                                                 sql  \n",
       "0  CREATE TABLE MessageBase (\\n    mid INTEGER,\\n...  \n",
       "1  CREATE TABLE RecipientBase (\\n    mid INTEGER,...  \n",
       "2  CREATE TABLE EmployeeBase (\\n                 ...  "
      ]
     },
     "execution_count": 1,
     "metadata": {},
     "output_type": "execute_result"
    }
   ],
   "source": [
    "import sqlite3\n",
    "import pandas as pd\n",
    "\n",
    "con = sqlite3.connect('enron.db')\n",
    "\n",
    "data = pd.read_sql_query(\"SELECT * FROM sqlite_master WHERE type='table'\", con)\n",
    "data"
   ]
  },
  {
   "cell_type": "markdown",
   "metadata": {},
   "source": [
    "Consultar la tabla `sqlite_master` para obtener el schema de la tabla `EmployeeBase`.\n",
    "\n",
    "1. ¿Cuántos campos tiene?\n",
    "2. ¿Qué tipo de datos tiene cada uno?"
   ]
  },
  {
   "cell_type": "code",
   "execution_count": 3,
   "metadata": {},
   "outputs": [
    {
     "name": "stdout",
     "output_type": "stream",
     "text": [
      "(0, 'eid', 'INTEGER', 0, None, 0)\n",
      "(1, 'name', 'TEXT', 0, None, 0)\n",
      "(2, 'department', 'TEXT', 0, None, 0)\n",
      "(3, 'longdepartment', 'TEXT', 0, None, 0)\n",
      "(4, 'title', 'TEXT', 0, None, 0)\n",
      "(5, 'gender', 'TEXT', 0, None, 0)\n",
      "(6, 'seniority', 'TEXT', 0, None, 0)\n"
     ]
    }
   ],
   "source": [
    "import sqlite3\n",
    "import pandas as pd\n",
    "\n",
    "con = sqlite3.connect('enron.db')\n",
    "for row in con.execute(\"pragma table_info('EmployeeBase')\").fetchall():\n",
    "    print(row)"
   ]
  },
  {
   "cell_type": "markdown",
   "metadata": {},
   "source": [
    "1. Imprimir las primeras 5 filas de la tabla EmployeeBase\n",
    "2. Imprimir las primeras 5 filas de la tabla MessageBase\n",
    "3. Imprimir las primeras 5 filas de la tabla RecipientBase\n",
    "\n",
    "**Ayuda**  combinar `SELECT` con `LIMIT`.\n",
    "\n"
   ]
  },
  {
   "cell_type": "markdown",
   "metadata": {},
   "source": [
    "Importar cada una de las 3 tablas a una estructura Pandas Dataframes"
   ]
  },
  {
   "cell_type": "code",
   "execution_count": 4,
   "metadata": {},
   "outputs": [
    {
     "data": {
      "text/html": [
       "<div>\n",
       "<style>\n",
       "    .dataframe thead tr:only-child th {\n",
       "        text-align: right;\n",
       "    }\n",
       "\n",
       "    .dataframe thead th {\n",
       "        text-align: left;\n",
       "    }\n",
       "\n",
       "    .dataframe tbody tr th {\n",
       "        vertical-align: top;\n",
       "    }\n",
       "</style>\n",
       "<table border=\"1\" class=\"dataframe\">\n",
       "  <thead>\n",
       "    <tr style=\"text-align: right;\">\n",
       "      <th></th>\n",
       "      <th>mid</th>\n",
       "      <th>rno</th>\n",
       "      <th>to_eid</th>\n",
       "    </tr>\n",
       "  </thead>\n",
       "  <tbody>\n",
       "    <tr>\n",
       "      <th>0</th>\n",
       "      <td>1</td>\n",
       "      <td>1</td>\n",
       "      <td>59</td>\n",
       "    </tr>\n",
       "    <tr>\n",
       "      <th>1</th>\n",
       "      <td>2</td>\n",
       "      <td>1</td>\n",
       "      <td>15</td>\n",
       "    </tr>\n",
       "    <tr>\n",
       "      <th>2</th>\n",
       "      <td>3</td>\n",
       "      <td>1</td>\n",
       "      <td>15</td>\n",
       "    </tr>\n",
       "    <tr>\n",
       "      <th>3</th>\n",
       "      <td>4</td>\n",
       "      <td>1</td>\n",
       "      <td>109</td>\n",
       "    </tr>\n",
       "    <tr>\n",
       "      <th>4</th>\n",
       "      <td>4</td>\n",
       "      <td>2</td>\n",
       "      <td>49</td>\n",
       "    </tr>\n",
       "  </tbody>\n",
       "</table>\n",
       "</div>"
      ],
      "text/plain": [
       "   mid  rno  to_eid\n",
       "0    1    1      59\n",
       "1    2    1      15\n",
       "2    3    1      15\n",
       "3    4    1     109\n",
       "4    4    2      49"
      ]
     },
     "execution_count": 4,
     "metadata": {},
     "output_type": "execute_result"
    }
   ],
   "source": [
    "import sqlite3\n",
    "import pandas as pd\n",
    "\n",
    "con = sqlite3.connect('enron.db')\n",
    "\n",
    "data1 = pd.read_sql_query(\"SELECT * FROM EmployeeBase LIMIT 5\", con)\n",
    "data1\n",
    "\n",
    "data2 = pd.read_sql_query(\"SELECT * FROM MessageBase LIMIT 5\", con)\n",
    "data2\n",
    "\n",
    "data3 = pd.read_sql_query(\"SELECT * FROM RecipientBase LIMIT 5\", con)\n",
    "data3"
   ]
  },
  {
   "cell_type": "markdown",
   "metadata": {},
   "source": [
    "## 2. Exploración de Datos\n",
    "\n",
    "Utilizar los 3 dataframes para responder las siguientes preguntas:\n",
    "\n",
    "1. ¿Cuántos empleados hay en la compañía?\n",
    "2. ¿Cuántos mensajes hay en la Base de Datos?\n",
    "3. Convertir la columna timestamp en los mensajes. ¿Cuándo fue enviado el mensaje más antiguo? ¿Y el más reciente?\n",
    "4. Algunos mensajes se enviaron a más de un destinatario. Agrupar los mensajes por message_id y contar la cantidad de destinatarios. Luego, observar la distribución de la cantidad de destinatarios.\n",
    "    - ¿Cuántos mensajes tienen sólo 1 destinatario?\n",
    "    - ¿Cuántos mensajes tienen al menos 5 destinatarios?\n",
    "    - ¿Cuál es la máxima cantidad de destinatarios de un mensaje?\n",
    "    - ¿Quién envió el mensaje con la máxima cantidad de destinatarios?\n",
    "5. Imprimir la distribución de la cantidad de destinatarios utilizando Bokeh."
   ]
  },
  {
   "cell_type": "code",
   "execution_count": 6,
   "metadata": {},
   "outputs": [
    {
     "name": "stdout",
     "output_type": "stream",
     "text": [
      "2002-06-21 10:37:34\n",
      "1998-11-13 01:07:00\n"
     ]
    }
   ],
   "source": [
    "import sqlite3\n",
    "import pandas as pd\n",
    "import datetime\n",
    "import numpy as np\n",
    "from bokeh.plotting import figure, output_file, show\n",
    "from bkcharts import Bar, output_file, show\n",
    "from bokeh.layouts import row\n",
    "\n",
    "con = sqlite3.connect('enron.db')\n",
    "\n",
    "data1 = pd.read_sql_query(\"SELECT * FROM EmployeeBase\", con)\n",
    "data2 = pd.read_sql_query(\"SELECT * FROM MessageBase\", con)\n",
    "data3 = pd.read_sql_query(\"SELECT * FROM RecipientBase\", con)\n",
    "\n",
    "# 1\n",
    "data1['eid'].count() ## 156 empleados\n",
    "\n",
    "# 2\n",
    "data2['mid'].count() ## 21635 mensajes\n",
    "\n",
    "# 3\n",
    "print(\n",
    "    datetime.datetime.fromtimestamp(\n",
    "        int(data2['unix_time'].max())\n",
    "    ).strftime('%Y-%m-%d %H:%M:%S')\n",
    ") ## El mas reciente: 2002-06-21 10:37:34\n",
    "\n",
    "print(\n",
    "    datetime.datetime.fromtimestamp(\n",
    "        int(data2['unix_time'].min())\n",
    "    ).strftime('%Y-%m-%d %H:%M:%S')\n",
    ") ## El mas antiguo: 1998-11-13 01:07:00\n",
    "\n",
    "# 4\n",
    "data3.groupby('mid').size()\n",
    "## Alternativa usando count() y especificando la columna a contar:\n",
    "data3.groupby('mid')['rno'].count()\n",
    "\n",
    "# 4.a\n",
    "destinatarios = data3.groupby('mid').size()\n",
    "destinatarios[destinatarios == 1]\n",
    "\n",
    "# 4.b\n",
    "destinatarios[destinatarios >= 5]\n",
    "\n",
    "# 4.c\n",
    "destinatarios[destinatarios == destinatarios.max()] ## mid = 12116 y 12151 con 57 destinatarios\n",
    "\n",
    "# 4.d\n",
    "data2[(data2['mid'] == 12116) | (data2['mid'] == 12151)] ## from_eid = 67\n",
    "# o bien:\n",
    "data2[(data2['mid'] == 12116) | (data2['mid'] == 12151)]['from_eid'] ## = 67\n",
    "# luego buscar el Employee = 67\n",
    "data1[data1['eid'] == 67] # John J. Lavorato\n",
    "# Alternativa con MERGE (simil Join) y mostrando los campos mid y name\n",
    "pd.merge(data1, data2[(data2['mid'] == 12116) | (data2['mid'] == 12151)], left_on='eid', right_on='from_eid')[['mid','name']]\n",
    "\n",
    "# 5\n",
    "output_file(\"distrib_cant_dest.html\")\n",
    "\n",
    "bar = Bar(data3.groupby(data3.groupby(['mid']).size()).size(), title = \"Distribucion de la Cantidad de Destinatarios\", xlabel='Cant. Destinatarios', ylabel='Cant. Mensajes', legend=None)\n",
    "\n",
    "show(row(bar))\n",
    "\n",
    "# Otra forma de resolverlo, definiendo x e y en grafico de linea\n",
    "# x = data3.groupby(data3.groupby(['mid']).size()).size().keys()\n",
    "# y = data3.groupby(data3.groupby(['mid']).size()).size().values.tolist()\n",
    "\n",
    "# p = figure(title=\"Distribucion de la Cantidad de Destinatarios\", x_axis_label='destinatarios', y_axis_label='cant. mensajes')\n",
    "\n",
    "# p.line(x, y, legend=\"Cant.\", line_width=2)\n",
    "# show(p)\n"
   ]
  },
  {
   "cell_type": "markdown",
   "metadata": {},
   "source": [
    "Cambiar la escala para investigar la cola de la curva (OPCIONAL)."
   ]
  },
  {
   "cell_type": "code",
   "execution_count": null,
   "metadata": {
    "collapsed": true
   },
   "outputs": [],
   "source": []
  },
  {
   "cell_type": "markdown",
   "metadata": {},
   "source": [
    "## 3. Combinación de datos\n",
    "\n",
    "Utilizar la función `merge` de Pandas para combinar la información de los 3 dataframes y responder a las siguientes preguntas:\n",
    "\n",
    "1. ¿Hay más empleados Hombres o Mujeres?\n",
    "2. ¿Cómo se distribuye el género a través de los departamentos?\n",
    "3. ¿Quiénes envían más e-mails, los hombres o las mujeres?\n",
    "4. ¿Cuál es el promedio de e-mails enviados por cada género?\n",
    "5. ¿Hay más Juniors o Seniors?\n",
    "6. ¿Quiénes envían más e-mails, los Juniors o los Seniors?\n",
    "7. ¿Qué departamento envía más e-mails? ¿Cómo se relaciona con la cantidad de empleados del departamento?\n",
    "8. ¿Cuál es el Top 3 de enviadores de e-mails? (los 3 empleados que más e-mails envían)"
   ]
  },
  {
   "cell_type": "code",
   "execution_count": 9,
   "metadata": {
    "scrolled": true
   },
   "outputs": [
    {
     "name": "stdout",
     "output_type": "stream",
     "text": [
      "1.\n",
      "Hay más empleados Hombres: 113\n",
      "2.\n",
      "gender  department\n",
      "Female  Forestry      10\n",
      "        Legal         13\n",
      "        Other         20\n",
      "Male    Forestry      50\n",
      "        Legal         12\n",
      "        Other         51\n",
      "dtype: int64\n",
      "3.\n",
      "Los Hombres envían más e-mails: 12841\n",
      "4.\n",
      "En promedio las Mujeres envían 204.511627907 e-mails\n",
      "En promedio los Hombres envían 113.637168142 e-mails\n",
      "5.\n",
      "Hay más empleados Junior (o igual que Senior): 82\n",
      "6.\n",
      "Los Senior envían más e-mails: 12439\n",
      "7.\n",
      "department\n",
      "Forestry     4387\n",
      "Legal       10396\n",
      "Other        6852\n",
      "dtype: int64\n",
      "department\n",
      "Forestry    60\n",
      "Legal       25\n",
      "Other       71\n",
      "dtype: int64\n",
      "8.\n",
      "from_eid\n",
      "20     1597\n",
      "59     1379\n",
      "120    1142\n",
      "dtype: int64\n"
     ]
    }
   ],
   "source": [
    "import sqlite3\n",
    "import pandas as pd\n",
    "import datetime\n",
    "import numpy as np\n",
    "\n",
    "con = sqlite3.connect('enron.db')\n",
    "\n",
    "data1 = pd.read_sql_query(\"SELECT * FROM EmployeeBase\", con)\n",
    "data2 = pd.read_sql_query(\"SELECT * FROM MessageBase\", con)\n",
    "data3 = pd.read_sql_query(\"SELECT * FROM RecipientBase\", con)\n",
    "\n",
    "print(\"1.\")\n",
    "if data1.groupby('gender').size()['Male']>data1.groupby('gender').size()['Female']:\n",
    "    print(\"Hay más empleados Hombres:\", data1.groupby('gender').size()['Male'])\n",
    "else:\n",
    "    print(\"Hay más empleados Mujeres (o igual que Hombres):\", data1.groupby('gender').size()['Female'])\n",
    "\n",
    "print(\"2.\")\n",
    "print(data1.groupby(['gender','department']).size())\n",
    "\n",
    "print(\"3.\")\n",
    "if pd.merge(data1, data2, left_on='eid', right_on='from_eid').groupby('gender').size()['Male']>pd.merge(data1, data2, left_on='eid', right_on='from_eid').groupby('gender').size()['Female']:\n",
    "    print(\"Los Hombres envían más e-mails:\",pd.merge(data1, data2, left_on='eid', right_on='from_eid').groupby('gender').size()['Male'])\n",
    "else:\n",
    "    print(\"Las Mujeres envían más e-mails:\",pd.merge(data1, data2, left_on='eid', right_on='from_eid').groupby('gender').size()['Female'])\n",
    "\n",
    "print(\"4.\")\n",
    "print(\"En promedio las Mujeres envían\",(pd.merge(data1, data2, left_on='eid', right_on='from_eid').groupby('gender').size()['Female'] / data1.groupby('gender').size()['Female']),\"e-mails\")\n",
    "print(\"En promedio los Hombres envían\",(pd.merge(data1, data2, left_on='eid', right_on='from_eid').groupby('gender').size()['Male'] / data1.groupby('gender').size()['Male']),\"e-mails\")\n",
    "\n",
    "print(\"5.\")\n",
    "if data1.groupby('seniority').size()['Senior']>data1.groupby('seniority').size()['Junior']:\n",
    "    print(\"Hay más empleados Senior:\", data1.groupby('seniority').size()['Senior'])\n",
    "else:\n",
    "    print(\"Hay más empleados Junior (o igual que Senior):\", data1.groupby('seniority').size()['Junior'])\n",
    "    \n",
    "print(\"6.\")\n",
    "if pd.merge(data1, data2, left_on='eid', right_on='from_eid').groupby('seniority').size()['Senior']>pd.merge(data1, data2, left_on='eid', right_on='from_eid').groupby('seniority').size()['Junior']:\n",
    "    print(\"Los Senior envían más e-mails:\",pd.merge(data1, data2, left_on='eid', right_on='from_eid').groupby('seniority').size()['Senior'])\n",
    "else:\n",
    "    print(\"Los Junior envían más e-mails:\",pd.merge(data1, data2, left_on='eid', right_on='from_eid').groupby('seniority').size()['Junior'])\n",
    "\n",
    "print(\"7.\")\n",
    "print(pd.merge(data1, data2, left_on='eid', right_on='from_eid').groupby('department').size())\n",
    "print(data1.groupby('department').size())\n",
    "\n",
    "print(\"8.\")\n",
    "print(data2.groupby('from_eid').size().nlargest(3, \"first\"))"
   ]
  },
  {
   "cell_type": "markdown",
   "metadata": {},
   "source": [
    "Responder a las siguientes preguntas de aceurdo a los mensajes recibidos:\n",
    "\n",
    "1. ¿Quiénes reciben más e-mails, los Hombres o las Mujeres?\n",
    "2. ¿Quiénes reciben más e-mails, los Juniors o los Seniors?\n",
    "3. ¿Qué departamento recibe más e-mails? ¿Cómo se relaciona con la cantidad de empleados del departamento?\n",
    "4. ¿Cuál es el Top 5 de receptores de e-mails? (los 5 empleados que más e-mails recibieron)"
   ]
  },
  {
   "cell_type": "code",
   "execution_count": 10,
   "metadata": {
    "scrolled": true
   },
   "outputs": [
    {
     "name": "stdout",
     "output_type": "stream",
     "text": [
      "1.\n",
      "Los Hombres reciben más e-mails\n",
      "2.\n",
      "Las Senior reciben más e-mails (o igual)\n",
      "3.\n",
      "department\n",
      "Forestry     8424\n",
      "Legal       16311\n",
      "Other       13653\n",
      "dtype: int64\n",
      "department\n",
      "Forestry    60\n",
      "Legal       25\n",
      "Other       71\n",
      "dtype: int64\n",
      "4.\n",
      "to_eid\n",
      "131    1797\n",
      "122    1730\n",
      "138    1477\n",
      "61     1290\n",
      "120    1173\n",
      "dtype: int64\n"
     ]
    }
   ],
   "source": [
    "import sqlite3\n",
    "import pandas as pd\n",
    "import datetime\n",
    "import numpy as np\n",
    "\n",
    "con = sqlite3.connect('enron.db')\n",
    "\n",
    "data1 = pd.read_sql_query(\"SELECT * FROM EmployeeBase\", con)\n",
    "data2 = pd.read_sql_query(\"SELECT * FROM MessageBase\", con)\n",
    "data3 = pd.read_sql_query(\"SELECT * FROM RecipientBase\", con)\n",
    "\n",
    "Hombres_reciben = pd.merge(data1, data3, left_on='eid', right_on='to_eid').groupby('gender').size()['Male']\n",
    "Mujeres_reciben = pd.merge(data1, data3, left_on='eid', right_on='to_eid').groupby('gender').size()['Female']\n",
    "\n",
    "Junior_reciben = pd.merge(data1, data3, left_on='eid', right_on='to_eid').groupby('seniority').size()['Junior']\n",
    "Senior_reciben = pd.merge(data1, data3, left_on='eid', right_on='to_eid').groupby('seniority').size()['Senior']\n",
    "\n",
    "print(\"1.\")\n",
    "if Hombres_reciben>Mujeres_reciben:\n",
    "    print(\"Los Hombres reciben más e-mails\")\n",
    "else:\n",
    "    print(\"Las Mujeres reciben más e-mails (o igual)\")\n",
    "\n",
    "print (\"2.\")\n",
    "if Junior_reciben>Senior_reciben:\n",
    "    print(\"Los Junior reciben más e-mails\")\n",
    "else:\n",
    "    print(\"Las Senior reciben más e-mails (o igual)\")\n",
    "\n",
    "print(\"3.\")\n",
    "print(pd.merge(data1, data3, left_on='eid', right_on='to_eid').groupby('department').size())\n",
    "print(data1.groupby('department').size())\n",
    "\n",
    "print(\"4.\")\n",
    "print(data3.groupby('to_eid').size().nlargest(5, \"first\"))\n"
   ]
  },
  {
   "cell_type": "markdown",
   "metadata": {},
   "source": [
    "¿Cuáles empleados enviaron más e-mails de forma \"masiva\"?"
   ]
  },
  {
   "cell_type": "code",
   "execution_count": 11,
   "metadata": {},
   "outputs": [
    {
     "name": "stdout",
     "output_type": "stream",
     "text": [
      "from_eid  mid  \n",
      "67        12116    57\n",
      "          12140    55\n",
      "          12151    57\n",
      "68        14404    52\n",
      "dtype: int64\n"
     ]
    }
   ],
   "source": [
    "import sqlite3\n",
    "import pandas as pd\n",
    "import datetime\n",
    "import numpy as np\n",
    "\n",
    "con = sqlite3.connect('enron.db')\n",
    "\n",
    "data1 = pd.read_sql_query(\"SELECT * FROM EmployeeBase\", con)\n",
    "data2 = pd.read_sql_query(\"SELECT * FROM MessageBase\", con)\n",
    "data3 = pd.read_sql_query(\"SELECT * FROM RecipientBase\", con)\n",
    "\n",
    "enviadores = pd.merge(data2, data3, on='mid').groupby(['from_eid','mid']).size()\n",
    "print(enviadores[enviadores > 50]) ## Los eid 67 y 68 son los que más \"spam\" hicieron\n",
    "\n",
    "\n"
   ]
  },
  {
   "cell_type": "markdown",
   "metadata": {},
   "source": [
    "Continuar explorando el dataset. ¿Qué otras preguntas se podrían hacer?\n",
    "\n",
    "Trabajar en grupos de a 2. Intercambiando preguntas desafiantes para que el otro las responda."
   ]
  }
 ],
 "metadata": {
  "kernelspec": {
   "display_name": "Python 3",
   "language": "python",
   "name": "python3"
  },
  "language_info": {
   "codemirror_mode": {
    "name": "ipython",
    "version": 3
   },
   "file_extension": ".py",
   "mimetype": "text/x-python",
   "name": "python",
   "nbconvert_exporter": "python",
   "pygments_lexer": "ipython3",
   "version": "3.6.1"
  }
 },
 "nbformat": 4,
 "nbformat_minor": 1
}
