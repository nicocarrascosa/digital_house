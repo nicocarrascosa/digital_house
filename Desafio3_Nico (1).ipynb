{
 "cells": [
  {
   "cell_type": "code",
   "execution_count": 1,
   "metadata": {
    "collapsed": true
   },
   "outputs": [],
   "source": [
    "# imports\n",
    "%matplotlib inline\n",
    "import pandas as pd\n",
    "import numpy as np\n",
    "import datetime\n",
    "import re\n",
    "import matplotlib.pyplot as plt\n",
    "import seaborn as sns\n",
    "import geopandas as gpd\n",
    "from mpl_toolkits.basemap import Basemap\n",
    "from geopandas import GeoDataFrame\n",
    "from shapely.geometry import shape\n",
    "from shapely.geometry import Point\n",
    "from shapely.geometry import Polygon\n",
    "from geopy.geocoders import Nominatim\n",
    "import shapely\n",
    "import shapely.wkt\n",
    "import math"
   ]
  },
  {
   "cell_type": "code",
   "execution_count": 2,
   "metadata": {
    "collapsed": true
   },
   "outputs": [],
   "source": [
    "# importo el dataset\n",
    "df = pd.read_csv('properatti.csv')\n",
    "# importo las coordenadas de los barrios de la Capital Federal\n",
    "barrios = pd.read_csv('barrios.csv', encoding = 'latin')"
   ]
  },
  {
   "cell_type": "code",
   "execution_count": 3,
   "metadata": {},
   "outputs": [
    {
     "name": "stdout",
     "output_type": "stream",
     "text": [
      "operation ['sell']\n",
      "country_name ['Argentina']\n"
     ]
    }
   ],
   "source": [
    "# chequeo columnas redundantes\n",
    "for column in df.columns:\n",
    "    if len(df[column].unique()) <= 1:\n",
    "        print(column, df[column].unique())"
   ]
  },
  {
   "cell_type": "code",
   "execution_count": 4,
   "metadata": {
    "collapsed": true
   },
   "outputs": [],
   "source": [
    "# elimino las columnas que son irrelevantes\n",
    "df.drop(df[['Unnamed: 0','place_name','country_name','state_name','operation', 'properati_url','image_thumbnail']], axis = 1, inplace = True)\n",
    "# elimino las filas que no corresponden con el tipo de propiedad = Departamento\n",
    "df.drop(df[df['property_type'] != 'apartment'].index, axis = 0, inplace = True)\n",
    "# elimino las filas que no corresponden con el tipo de moneda = Dólares\n",
    "df.drop(df[df['currency'] != 'USD'].index, axis = 0, inplace = True)"
   ]
  },
  {
   "cell_type": "code",
   "execution_count": 5,
   "metadata": {
    "collapsed": true
   },
   "outputs": [],
   "source": [
    "# genero una lista de listas con el pais, el estado y el barrio\n",
    "ls = [i.split('|') for i in df['place_with_parent_names']]"
   ]
  },
  {
   "cell_type": "code",
   "execution_count": 6,
   "metadata": {
    "collapsed": true
   },
   "outputs": [],
   "source": [
    "# instancio 3 listas vacias para cada variable dentro de la lista de listas\n",
    "country = []\n",
    "state = []\n",
    "neighbourhood = []\n",
    "\n",
    "# recorro cada lista dentro de la lista grande e incorporo la variable correspondiente a la nueva lista vacía\n",
    "for i in ls:\n",
    "    country.append(i[1])\n",
    "    state.append((i[2]))\n",
    "    neighbourhood.append((i[3]))"
   ]
  },
  {
   "cell_type": "code",
   "execution_count": 7,
   "metadata": {
    "collapsed": true
   },
   "outputs": [],
   "source": [
    "# creo una nueva columna dentro del dataset con las nuevas variables (pais, estado y barrio)\n",
    "df['country'] = country\n",
    "df['state'] = state\n",
    "df['neighbourhood'] = neighbourhood"
   ]
  },
  {
   "cell_type": "code",
   "execution_count": 8,
   "metadata": {
    "collapsed": true
   },
   "outputs": [],
   "source": [
    "# decido quedarme con los estados que son sólo Capital Federal y que no tengan precio por metro cuadrado vacío\n",
    "df = df[pd.notnull((df['price_usd_per_m2'])) & (df['state'] == 'Capital Federal')]"
   ]
  },
  {
   "cell_type": "code",
   "execution_count": 9,
   "metadata": {},
   "outputs": [
    {
     "name": "stdout",
     "output_type": "stream",
     "text": [
      "<class 'pandas.core.frame.DataFrame'>\n",
      "Int64Index: 18922 entries, 2 to 121219\n",
      "Data columns (total 22 columns):\n",
      "property_type                 18922 non-null object\n",
      "place_with_parent_names       18922 non-null object\n",
      "geonames_id                   18027 non-null float64\n",
      "lat-lon                       13913 non-null object\n",
      "lat                           13913 non-null float64\n",
      "lon                           13913 non-null float64\n",
      "price                         18922 non-null float64\n",
      "currency                      18922 non-null object\n",
      "price_aprox_local_currency    18922 non-null float64\n",
      "price_aprox_usd               18922 non-null float64\n",
      "surface_total_in_m2           18922 non-null float64\n",
      "surface_covered_in_m2         18045 non-null float64\n",
      "price_usd_per_m2              18922 non-null float64\n",
      "price_per_m2                  18043 non-null float64\n",
      "floor                         1278 non-null float64\n",
      "rooms                         9316 non-null float64\n",
      "expenses                      5558 non-null float64\n",
      "description                   18922 non-null object\n",
      "title                         18922 non-null object\n",
      "country                       18922 non-null object\n",
      "state                         18922 non-null object\n",
      "neighbourhood                 18922 non-null object\n",
      "dtypes: float64(13), object(9)\n",
      "memory usage: 3.3+ MB\n"
     ]
    }
   ],
   "source": [
    "df.info()"
   ]
  },
  {
   "cell_type": "code",
   "execution_count": 10,
   "metadata": {
    "collapsed": true
   },
   "outputs": [],
   "source": [
    "# reseteo el índice para luego tener una mejor referencia\n",
    "df = df.reset_index()"
   ]
  },
  {
   "cell_type": "code",
   "execution_count": 11,
   "metadata": {},
   "outputs": [
    {
     "data": {
      "text/html": [
       "<div>\n",
       "<style scoped>\n",
       "    .dataframe tbody tr th:only-of-type {\n",
       "        vertical-align: middle;\n",
       "    }\n",
       "\n",
       "    .dataframe tbody tr th {\n",
       "        vertical-align: top;\n",
       "    }\n",
       "\n",
       "    .dataframe thead th {\n",
       "        text-align: right;\n",
       "    }\n",
       "</style>\n",
       "<table border=\"1\" class=\"dataframe\">\n",
       "  <thead>\n",
       "    <tr style=\"text-align: right;\">\n",
       "      <th></th>\n",
       "      <th>place_with_parent_names</th>\n",
       "      <th>country</th>\n",
       "      <th>state</th>\n",
       "      <th>neighbourhood</th>\n",
       "    </tr>\n",
       "  </thead>\n",
       "  <tbody>\n",
       "    <tr>\n",
       "      <th>0</th>\n",
       "      <td>|Argentina|Capital Federal|Mataderos|</td>\n",
       "      <td>Argentina</td>\n",
       "      <td>Capital Federal</td>\n",
       "      <td>Mataderos</td>\n",
       "    </tr>\n",
       "    <tr>\n",
       "      <th>1</th>\n",
       "      <td>|Argentina|Capital Federal|Belgrano|</td>\n",
       "      <td>Argentina</td>\n",
       "      <td>Capital Federal</td>\n",
       "      <td>Belgrano</td>\n",
       "    </tr>\n",
       "    <tr>\n",
       "      <th>2</th>\n",
       "      <td>|Argentina|Capital Federal|Belgrano|</td>\n",
       "      <td>Argentina</td>\n",
       "      <td>Capital Federal</td>\n",
       "      <td>Belgrano</td>\n",
       "    </tr>\n",
       "    <tr>\n",
       "      <th>3</th>\n",
       "      <td>|Argentina|Capital Federal|Palermo|Palermo Soho|</td>\n",
       "      <td>Argentina</td>\n",
       "      <td>Capital Federal</td>\n",
       "      <td>Palermo</td>\n",
       "    </tr>\n",
       "    <tr>\n",
       "      <th>4</th>\n",
       "      <td>|Argentina|Capital Federal|Palermo|Palermo Soho|</td>\n",
       "      <td>Argentina</td>\n",
       "      <td>Capital Federal</td>\n",
       "      <td>Palermo</td>\n",
       "    </tr>\n",
       "    <tr>\n",
       "      <th>5</th>\n",
       "      <td>|Argentina|Capital Federal|Palermo|</td>\n",
       "      <td>Argentina</td>\n",
       "      <td>Capital Federal</td>\n",
       "      <td>Palermo</td>\n",
       "    </tr>\n",
       "    <tr>\n",
       "      <th>6</th>\n",
       "      <td>|Argentina|Capital Federal|Palermo|</td>\n",
       "      <td>Argentina</td>\n",
       "      <td>Capital Federal</td>\n",
       "      <td>Palermo</td>\n",
       "    </tr>\n",
       "    <tr>\n",
       "      <th>7</th>\n",
       "      <td>|Argentina|Capital Federal|Flores|</td>\n",
       "      <td>Argentina</td>\n",
       "      <td>Capital Federal</td>\n",
       "      <td>Flores</td>\n",
       "    </tr>\n",
       "    <tr>\n",
       "      <th>8</th>\n",
       "      <td>|Argentina|Capital Federal|Boedo|</td>\n",
       "      <td>Argentina</td>\n",
       "      <td>Capital Federal</td>\n",
       "      <td>Boedo</td>\n",
       "    </tr>\n",
       "    <tr>\n",
       "      <th>9</th>\n",
       "      <td>|Argentina|Capital Federal|Las Cañitas|</td>\n",
       "      <td>Argentina</td>\n",
       "      <td>Capital Federal</td>\n",
       "      <td>Las Cañitas</td>\n",
       "    </tr>\n",
       "  </tbody>\n",
       "</table>\n",
       "</div>"
      ],
      "text/plain": [
       "                            place_with_parent_names    country  \\\n",
       "0             |Argentina|Capital Federal|Mataderos|  Argentina   \n",
       "1              |Argentina|Capital Federal|Belgrano|  Argentina   \n",
       "2              |Argentina|Capital Federal|Belgrano|  Argentina   \n",
       "3  |Argentina|Capital Federal|Palermo|Palermo Soho|  Argentina   \n",
       "4  |Argentina|Capital Federal|Palermo|Palermo Soho|  Argentina   \n",
       "5               |Argentina|Capital Federal|Palermo|  Argentina   \n",
       "6               |Argentina|Capital Federal|Palermo|  Argentina   \n",
       "7                |Argentina|Capital Federal|Flores|  Argentina   \n",
       "8                 |Argentina|Capital Federal|Boedo|  Argentina   \n",
       "9           |Argentina|Capital Federal|Las Cañitas|  Argentina   \n",
       "\n",
       "             state neighbourhood  \n",
       "0  Capital Federal     Mataderos  \n",
       "1  Capital Federal      Belgrano  \n",
       "2  Capital Federal      Belgrano  \n",
       "3  Capital Federal       Palermo  \n",
       "4  Capital Federal       Palermo  \n",
       "5  Capital Federal       Palermo  \n",
       "6  Capital Federal       Palermo  \n",
       "7  Capital Federal        Flores  \n",
       "8  Capital Federal         Boedo  \n",
       "9  Capital Federal   Las Cañitas  "
      ]
     },
     "execution_count": 11,
     "metadata": {},
     "output_type": "execute_result"
    }
   ],
   "source": [
    "# me fijo que lo hecho antes haya funcionado\n",
    "df[['place_with_parent_names','country','state','neighbourhood']].head(10)"
   ]
  },
  {
   "cell_type": "code",
   "execution_count": 12,
   "metadata": {
    "collapsed": true
   },
   "outputs": [],
   "source": [
    "# elimino las columnas que ya no me sirven\n",
    "df.drop(df[['place_with_parent_names','country']], axis = 1, inplace = True)"
   ]
  },
  {
   "cell_type": "code",
   "execution_count": 13,
   "metadata": {
    "collapsed": true
   },
   "outputs": [],
   "source": [
    "# reemplazo valores vacíos por un NaN de Numpy\n",
    "df['state'].replace('',np.nan, inplace = True)\n",
    "df['neighbourhood'].replace('', np.nan, inplace = True)"
   ]
  },
  {
   "cell_type": "code",
   "execution_count": 14,
   "metadata": {
    "collapsed": true
   },
   "outputs": [],
   "source": [
    "# creo una lista con los nombres de las columnas del dataset\n",
    "cols = df.columns.tolist()\n",
    "# reordeno las columnas\n",
    "cols = [cols[-2]] + [cols[-1]] + cols[:-2]\n",
    "# asigno el nuevo orden de columnas al dataset\n",
    "df = df[cols]"
   ]
  },
  {
   "cell_type": "code",
   "execution_count": 15,
   "metadata": {
    "collapsed": true
   },
   "outputs": [],
   "source": [
    "# redondeo a 2 decimales los valores de precio por m2\n",
    "df['price_usd_per_m2'] = df['price_usd_per_m2'].round(decimals = 2)\n",
    "df['price_per_m2'] = df['price_per_m2'].round(decimals = 2)"
   ]
  },
  {
   "cell_type": "code",
   "execution_count": 16,
   "metadata": {
    "collapsed": true
   },
   "outputs": [],
   "source": [
    "# paso el texto dentro de la descripción y el título a minúsculas para no tener problemas luego\n",
    "df['description'] = df['description'].str.lower()\n",
    "df['title'] = df['title'].str.lower()"
   ]
  },
  {
   "cell_type": "code",
   "execution_count": 17,
   "metadata": {
    "collapsed": true
   },
   "outputs": [],
   "source": [
    "# extraigo los numeros que están antes de la palabra amb|ambiente|ambientes| y lo asigno a los valores vacíos de la columna rooms\n",
    "df['rooms'].fillna(df['description'].str.extract('(\\d)\\samb*', expand = False),inplace = True)\n",
    "# extraigo la cantidad de ambientes en letras y lo asigno a los valores vacíos de la columna rooms\n",
    "df['rooms'].fillna(df['description'].str.extract('(un|dos|tres|cuatro|cinco|seis)\\samb*',expand = False),inplace = True)\n",
    "# extraigo la palabra 'monoambiente' y la asigno a los valores vacíos de la columna rooms\n",
    "df['rooms'].fillna(df['description'].str.extract('(monoambiente)', expand = False), inplace = True)"
   ]
  },
  {
   "cell_type": "code",
   "execution_count": 18,
   "metadata": {},
   "outputs": [
    {
     "name": "stdout",
     "output_type": "stream",
     "text": [
      "<class 'pandas.core.frame.DataFrame'>\n",
      "RangeIndex: 18922 entries, 0 to 18921\n",
      "Data columns (total 21 columns):\n",
      "state                         18922 non-null object\n",
      "neighbourhood                 18567 non-null object\n",
      "index                         18922 non-null int64\n",
      "property_type                 18922 non-null object\n",
      "geonames_id                   18027 non-null float64\n",
      "lat-lon                       13913 non-null object\n",
      "lat                           13913 non-null float64\n",
      "lon                           13913 non-null float64\n",
      "price                         18922 non-null float64\n",
      "currency                      18922 non-null object\n",
      "price_aprox_local_currency    18922 non-null float64\n",
      "price_aprox_usd               18922 non-null float64\n",
      "surface_total_in_m2           18922 non-null float64\n",
      "surface_covered_in_m2         18045 non-null float64\n",
      "price_usd_per_m2              18922 non-null float64\n",
      "price_per_m2                  18043 non-null float64\n",
      "floor                         1278 non-null float64\n",
      "rooms                         16330 non-null object\n",
      "expenses                      5558 non-null float64\n",
      "description                   18922 non-null object\n",
      "title                         18922 non-null object\n",
      "dtypes: float64(12), int64(1), object(8)\n",
      "memory usage: 3.0+ MB\n"
     ]
    }
   ],
   "source": [
    "df.info()"
   ]
  },
  {
   "cell_type": "code",
   "execution_count": 19,
   "metadata": {
    "collapsed": true
   },
   "outputs": [],
   "source": [
    "# creo un diccionario para luego mapear la cantidad de ambientes (en números) con la cantidad de ambientes en letras\n",
    "roomsMap = { \n",
    "    \"un\": 1,\n",
    "    \"dos\": 2, \n",
    "    \"tres\": 3,\n",
    "    \"cuatro\": 4, \n",
    "    \"cinco\": 5,\n",
    "    \"seis\": 6, \n",
    "    \"monoambiente\": 1 \n",
    "            }"
   ]
  },
  {
   "cell_type": "code",
   "execution_count": 20,
   "metadata": {
    "collapsed": true
   },
   "outputs": [],
   "source": [
    "# aplico el mapping\n",
    "df['ambientes1'] = df['rooms'].map(roomsMap)\n",
    "# creo una nueva columna que es la conjunción de rooms y ambientes1\n",
    "df['ambientes2'] = df['ambientes1'].fillna(df['rooms'])"
   ]
  },
  {
   "cell_type": "code",
   "execution_count": 21,
   "metadata": {
    "collapsed": true
   },
   "outputs": [],
   "source": [
    "# elimino rooms y ambientes1 porque ambientes2 tiene la info de ambas\n",
    "df.drop(df[['rooms','ambientes1']], axis = 1, inplace = True)"
   ]
  },
  {
   "cell_type": "code",
   "execution_count": 22,
   "metadata": {
    "collapsed": true
   },
   "outputs": [],
   "source": [
    "# renombro ambientes2 a rooms\n",
    "df = df.rename(columns = {'ambientes2': 'rooms'})\n",
    "# elimino la columna index que no sirve\n",
    "df.drop(df[['index']], axis = 1, inplace = True)"
   ]
  },
  {
   "cell_type": "code",
   "execution_count": 23,
   "metadata": {
    "collapsed": true
   },
   "outputs": [],
   "source": [
    "# asigno la latitud media de cada barrio a los valores vacíos dentro de la columna Lat\n",
    "df['lat'].fillna(df.groupby('neighbourhood')['lat'].transform('mean'), inplace = True)\n",
    "# asigno la longitud media de cada barrio a los valores vacíos dentro de la columna Lon\n",
    "df['lon'].fillna(df.groupby('neighbourhood')['lon'].transform('mean'), inplace = True)"
   ]
  },
  {
   "cell_type": "code",
   "execution_count": 24,
   "metadata": {},
   "outputs": [
    {
     "name": "stdout",
     "output_type": "stream",
     "text": [
      "<class 'pandas.core.frame.DataFrame'>\n",
      "RangeIndex: 18922 entries, 0 to 18921\n",
      "Data columns (total 20 columns):\n",
      "state                         18922 non-null object\n",
      "neighbourhood                 18567 non-null object\n",
      "property_type                 18922 non-null object\n",
      "geonames_id                   18027 non-null float64\n",
      "lat-lon                       13913 non-null object\n",
      "lat                           18712 non-null float64\n",
      "lon                           18712 non-null float64\n",
      "price                         18922 non-null float64\n",
      "currency                      18922 non-null object\n",
      "price_aprox_local_currency    18922 non-null float64\n",
      "price_aprox_usd               18922 non-null float64\n",
      "surface_total_in_m2           18922 non-null float64\n",
      "surface_covered_in_m2         18045 non-null float64\n",
      "price_usd_per_m2              18922 non-null float64\n",
      "price_per_m2                  18043 non-null float64\n",
      "floor                         1278 non-null float64\n",
      "expenses                      5558 non-null float64\n",
      "description                   18922 non-null object\n",
      "title                         18922 non-null object\n",
      "rooms                         16330 non-null object\n",
      "dtypes: float64(12), object(8)\n",
      "memory usage: 2.9+ MB\n"
     ]
    }
   ],
   "source": [
    "df.info()"
   ]
  },
  {
   "cell_type": "code",
   "execution_count": 25,
   "metadata": {},
   "outputs": [
    {
     "name": "stderr",
     "output_type": "stream",
     "text": [
      "/Users/ncarrascosa/anaconda3/lib/python3.6/site-packages/seaborn/categorical.py:462: FutureWarning: remove_na is deprecated and is a private function. Do not use.\n",
      "  box_data = remove_na(group_data)\n"
     ]
    },
    {
     "data": {
      "text/plain": [
       "<matplotlib.axes._subplots.AxesSubplot at 0x1a16602780>"
      ]
     },
     "execution_count": 25,
     "metadata": {},
     "output_type": "execute_result"
    },
    {
     "data": {
      "image/png": "[encoded data removed]",
      "text/plain": [
       "<Figure size 432x288 with 1 Axes>"
      ]
     },
     "metadata": {},
     "output_type": "display_data"
    }
   ],
   "source": [
    "# creo un boxplot para ver si hay outliers\n",
    "sns.boxplot(y=\"price_usd_per_m2\", data=df)"
   ]
  },
  {
   "cell_type": "code",
   "execution_count": 26,
   "metadata": {},
   "outputs": [],
   "source": [
    "def remove_outlier(df_in, col_name):\n",
    "    \"\"\"accept a dataframe, removes outliers, returns cleaned data in a new dataframe\"\"\"\n",
    "    q1 = df_in[col_name].quantile(0.25)\n",
    "    q3 = df_in[col_name].quantile(0.75)\n",
    "    iqr = q3-q1 #Interquartile range\n",
    "    fence_low  = q1-1.5*iqr\n",
    "    fence_high = q3+1.5*iqr\n",
    "    df_out = df_in.loc[(df_in[col_name] > fence_low) & (df_in[col_name] < fence_high)]\n",
    "    return df_out\n",
    "\n",
    "df = remove_outlier(df, 'price_usd_per_m2')"
   ]
  },
  {
   "cell_type": "code",
   "execution_count": 27,
   "metadata": {},
   "outputs": [
    {
     "name": "stderr",
     "output_type": "stream",
     "text": [
      "/Users/ncarrascosa/anaconda3/lib/python3.6/site-packages/seaborn/categorical.py:462: FutureWarning: remove_na is deprecated and is a private function. Do not use.\n",
      "  box_data = remove_na(group_data)\n"
     ]
    },
    {
     "data": {
      "text/plain": [
       "<matplotlib.axes._subplots.AxesSubplot at 0x1a14cacb70>"
      ]
     },
     "execution_count": 27,
     "metadata": {},
     "output_type": "execute_result"
    },
    {
     "data": {
      "image/png": "[encoded data removed]",
      "text/plain": [
       "<Figure size 432x288 with 1 Axes>"
      ]
     },
     "metadata": {},
     "output_type": "display_data"
    }
   ],
   "source": [
    "sns.boxplot(y=\"price_usd_per_m2\", data=df)"
   ]
  },
  {
   "cell_type": "code",
   "execution_count": 28,
   "metadata": {
    "collapsed": true
   },
   "outputs": [],
   "source": [
    "# decido quedarme con las filas que los precios menores a 5100\n",
    "#df = df[df['price_usd_per_m2'] < 5000]"
   ]
  },
  {
   "cell_type": "code",
   "execution_count": 29,
   "metadata": {
    "collapsed": true
   },
   "outputs": [],
   "source": [
    "# elimino las filas que tienen superficie total menor o igual a superficie cubierta\n",
    "df = df[df['surface_total_in_m2'] >= df['surface_covered_in_m2']]"
   ]
  },
  {
   "cell_type": "code",
   "execution_count": 30,
   "metadata": {
    "collapsed": true
   },
   "outputs": [],
   "source": [
    "# elimino las filas que tienen precios por metro cuadrado menor a 400\n",
    "#df = df[df['price_usd_per_m2'] >= 400] "
   ]
  },
  {
   "cell_type": "code",
   "execution_count": 31,
   "metadata": {},
   "outputs": [],
   "source": [
    "# creo otro boxplot para ver como afectaron los filtro que apliqué antes\n",
    "#sns.boxplot(y=\"price_usd_per_m2\", data=df)"
   ]
  },
  {
   "cell_type": "code",
   "execution_count": 32,
   "metadata": {},
   "outputs": [
    {
     "name": "stderr",
     "output_type": "stream",
     "text": [
      "/Users/ncarrascosa/anaconda3/lib/python3.6/site-packages/seaborn/categorical.py:462: FutureWarning: remove_na is deprecated and is a private function. Do not use.\n",
      "  box_data = remove_na(group_data)\n"
     ]
    },
    {
     "data": {
      "text/plain": [
       "<matplotlib.axes._subplots.AxesSubplot at 0x1a20d867f0>"
      ]
     },
     "execution_count": 32,
     "metadata": {},
     "output_type": "execute_result"
    },
    {
     "data": {
      "image/png": "[encoded data removed]",
      "text/plain": [
       "<Figure size 432x288 with 1 Axes>"
      ]
     },
     "metadata": {},
     "output_type": "display_data"
    }
   ],
   "source": [
    "# creo un boxplot para ver los outliers en términos de superficie total por tipo de propiedad\n",
    "sns.boxplot(y=\"surface_total_in_m2\",x=\"property_type\", data=df)"
   ]
  },
  {
   "cell_type": "code",
   "execution_count": 33,
   "metadata": {},
   "outputs": [],
   "source": [
    "df = remove_outlier(df, 'surface_total_in_m2')"
   ]
  },
  {
   "cell_type": "code",
   "execution_count": 34,
   "metadata": {},
   "outputs": [
    {
     "name": "stderr",
     "output_type": "stream",
     "text": [
      "/Users/ncarrascosa/anaconda3/lib/python3.6/site-packages/seaborn/categorical.py:462: FutureWarning: remove_na is deprecated and is a private function. Do not use.\n",
      "  box_data = remove_na(group_data)\n"
     ]
    },
    {
     "data": {
      "text/plain": [
       "<matplotlib.axes._subplots.AxesSubplot at 0x1a20cded68>"
      ]
     },
     "execution_count": 34,
     "metadata": {},
     "output_type": "execute_result"
    },
    {
     "data": {
      "image/png": "[encoded data removed]",
      "text/plain": [
       "<Figure size 432x288 with 1 Axes>"
      ]
     },
     "metadata": {},
     "output_type": "display_data"
    }
   ],
   "source": [
    "sns.boxplot(y=\"surface_total_in_m2\",x=\"property_type\", data=df)"
   ]
  },
  {
   "cell_type": "code",
   "execution_count": 35,
   "metadata": {
    "collapsed": true
   },
   "outputs": [],
   "source": [
    "# elimino las filas que tienen superficie total mayor a 1000mts2\n",
    "#df = df[(df['surface_total_in_m2'] <1000)]"
   ]
  },
  {
   "cell_type": "code",
   "execution_count": 36,
   "metadata": {},
   "outputs": [],
   "source": [
    "# boxplot para ver el efecto del filtro anterior\n",
    "#sns.boxplot(y=\"surface_total_in_m2\",x=\"property_type\", data=df, color = 'green')"
   ]
  },
  {
   "cell_type": "code",
   "execution_count": 37,
   "metadata": {
    "collapsed": true
   },
   "outputs": [],
   "source": [
    "#def find_outliers(property_type):\n",
    "    #Esta función lo que hace es asignar un valor constante \n",
    "    #como outlier dependiendo del tipo de propiedad\n",
    "    \n",
    "#    if property_type == 'apartment':\n",
    "#        return 200\n",
    "\n",
    "#def compute_outliers(property_type, surface):\n",
    "    #Esta función computa el valor de la superficie \n",
    "    #dependiendo si es outlier o no\n",
    "\n",
    "#    high_surface = find_outliers(property_type)\n",
    "#    if surface <  high_surface:\n",
    "#        return surface\n",
    "#    else:\n",
    "#        return high_surface"
   ]
  },
  {
   "cell_type": "code",
   "execution_count": 38,
   "metadata": {
    "collapsed": true
   },
   "outputs": [],
   "source": [
    "# elimino los outliers aplicando las funciones anteriormente creadas\n",
    "#df['surface_total_in_m2'] = df.apply(lambda row: compute_outliers(row['property_type'],row['surface_total_in_m2']),axis=1)"
   ]
  },
  {
   "cell_type": "code",
   "execution_count": 39,
   "metadata": {},
   "outputs": [
    {
     "name": "stdout",
     "output_type": "stream",
     "text": [
      "<class 'pandas.core.frame.DataFrame'>\n",
      "Int64Index: 14963 entries, 0 to 18921\n",
      "Data columns (total 20 columns):\n",
      "state                         14963 non-null object\n",
      "neighbourhood                 14681 non-null object\n",
      "property_type                 14963 non-null object\n",
      "geonames_id                   14296 non-null float64\n",
      "lat-lon                       11421 non-null object\n",
      "lat                           14806 non-null float64\n",
      "lon                           14806 non-null float64\n",
      "price                         14963 non-null float64\n",
      "currency                      14963 non-null object\n",
      "price_aprox_local_currency    14963 non-null float64\n",
      "price_aprox_usd               14963 non-null float64\n",
      "surface_total_in_m2           14963 non-null float64\n",
      "surface_covered_in_m2         14963 non-null float64\n",
      "price_usd_per_m2              14963 non-null float64\n",
      "price_per_m2                  14961 non-null float64\n",
      "floor                         1123 non-null float64\n",
      "expenses                      4509 non-null float64\n",
      "description                   14963 non-null object\n",
      "title                         14963 non-null object\n",
      "rooms                         13110 non-null object\n",
      "dtypes: float64(12), object(8)\n",
      "memory usage: 3.0+ MB\n"
     ]
    }
   ],
   "source": [
    "df.info()"
   ]
  },
  {
   "cell_type": "code",
   "execution_count": 40,
   "metadata": {
    "collapsed": true
   },
   "outputs": [],
   "source": [
    "# elimino columnas que no me sirven\n",
    "df.drop(df[['state','geonames_id','surface_covered_in_m2','price_per_m2','currency','price_aprox_local_currency','floor']], \n",
    "        axis = 1, \n",
    "        inplace = True)"
   ]
  },
  {
   "cell_type": "code",
   "execution_count": 41,
   "metadata": {},
   "outputs": [
    {
     "data": {
      "text/plain": [
       "10454"
      ]
     },
     "execution_count": 41,
     "metadata": {},
     "output_type": "execute_result"
    }
   ],
   "source": [
    "np.sum(df['expenses'].isnull())"
   ]
  },
  {
   "cell_type": "code",
   "execution_count": 42,
   "metadata": {},
   "outputs": [
    {
     "name": "stderr",
     "output_type": "stream",
     "text": [
      "/Users/ncarrascosa/anaconda3/lib/python3.6/site-packages/seaborn/categorical.py:462: FutureWarning: remove_na is deprecated and is a private function. Do not use.\n",
      "  box_data = remove_na(group_data)\n"
     ]
    },
    {
     "data": {
      "text/plain": [
       "<matplotlib.axes._subplots.AxesSubplot at 0x107a78048>"
      ]
     },
     "execution_count": 42,
     "metadata": {},
     "output_type": "execute_result"
    },
    {
     "data": {
      "image/png": "[encoded data removed]",
      "text/plain": [
       "<Figure size 432x288 with 1 Axes>"
      ]
     },
     "metadata": {},
     "output_type": "display_data"
    }
   ],
   "source": [
    "sns.boxplot(y=\"expenses\", data=df)"
   ]
  },
  {
   "cell_type": "code",
   "execution_count": 43,
   "metadata": {
    "collapsed": true
   },
   "outputs": [],
   "source": [
    "# asigno el promedio de expensas de cada barrio a los valores vacíos dentro de la columna expenses\n",
    "df['expenses'].fillna(df.groupby('neighbourhood')['expenses'].transform('mean'), inplace = True)"
   ]
  },
  {
   "cell_type": "code",
   "execution_count": 44,
   "metadata": {
    "collapsed": true
   },
   "outputs": [],
   "source": [
    "df['expenses'] = df['expenses'].round(decimals = 0)"
   ]
  },
  {
   "cell_type": "code",
   "execution_count": 46,
   "metadata": {
    "collapsed": true
   },
   "outputs": [],
   "source": [
    "df = remove_outlier(df, 'expenses')"
   ]
  },
  {
   "cell_type": "code",
   "execution_count": 47,
   "metadata": {},
   "outputs": [
    {
     "name": "stderr",
     "output_type": "stream",
     "text": [
      "/Users/ncarrascosa/anaconda3/lib/python3.6/site-packages/seaborn/categorical.py:462: FutureWarning: remove_na is deprecated and is a private function. Do not use.\n",
      "  box_data = remove_na(group_data)\n"
     ]
    },
    {
     "data": {
      "text/plain": [
       "<matplotlib.axes._subplots.AxesSubplot at 0x1a1e0aba58>"
      ]
     },
     "execution_count": 47,
     "metadata": {},
     "output_type": "execute_result"
    },
    {
     "data": {
      "image/png": "[encoded data removed]",
      "text/plain": [
       "<Figure size 432x288 with 1 Axes>"
      ]
     },
     "metadata": {},
     "output_type": "display_data"
    }
   ],
   "source": [
    "sns.boxplot(y = 'expenses', data=df)"
   ]
  },
  {
   "cell_type": "code",
   "execution_count": 49,
   "metadata": {},
   "outputs": [
    {
     "name": "stdout",
     "output_type": "stream",
     "text": [
      "<class 'pandas.core.frame.DataFrame'>\n",
      "Int64Index: 14089 entries, 0 to 18921\n",
      "Data columns (total 13 columns):\n",
      "neighbourhood          13998 non-null object\n",
      "property_type          14089 non-null object\n",
      "lat-lon                10844 non-null object\n",
      "lat                    14060 non-null float64\n",
      "lon                    14060 non-null float64\n",
      "price                  14089 non-null float64\n",
      "price_aprox_usd        14089 non-null float64\n",
      "surface_total_in_m2    14089 non-null float64\n",
      "price_usd_per_m2       14089 non-null float64\n",
      "expenses               14089 non-null float64\n",
      "description            14089 non-null object\n",
      "title                  14089 non-null object\n",
      "rooms                  12444 non-null object\n",
      "dtypes: float64(7), object(6)\n",
      "memory usage: 1.5+ MB\n"
     ]
    }
   ],
   "source": [
    "df.info()"
   ]
  },
  {
   "cell_type": "code",
   "execution_count": 50,
   "metadata": {
    "collapsed": true
   },
   "outputs": [],
   "source": [
    "df.reset_index(inplace = True)"
   ]
  },
  {
   "cell_type": "code",
   "execution_count": 51,
   "metadata": {
    "collapsed": true
   },
   "outputs": [],
   "source": [
    "def get_rooms_by_median(row):\n",
    "        surface_total = int(row['surface_total_in_m2'])\n",
    "        \n",
    "        rooms_1_median = df[df['rooms'] == 1]['surface_total_in_m2'].median()\n",
    "        rooms_2_median = df[df['rooms'] == 2]['surface_total_in_m2'].median()\n",
    "        rooms_3_median = df[df['rooms'] == 3]['surface_total_in_m2'].median()\n",
    "        rooms_4_median = df[df['rooms'] == 4]['surface_total_in_m2'].median()\n",
    "        rooms_5_median = df[df['rooms'] == 5]['surface_total_in_m2'].median()\n",
    "        rooms_6_median = df[df['rooms'] == 6]['surface_total_in_m2'].median()\n",
    "        \n",
    "        if surface_total <= rooms_1_median:\n",
    "            return 1\n",
    "        elif rooms_1_median < surface_total <= rooms_2_median:\n",
    "            return 2\n",
    "        elif rooms_2_median < surface_total <= rooms_3_median:\n",
    "            return 3\n",
    "        elif rooms_3_median < surface_total <= rooms_4_median:\n",
    "            return 4\n",
    "        elif rooms_4_median < surface_total <= rooms_5_median:\n",
    "            return 5\n",
    "        else:\n",
    "            return 6\n",
    "        return row['rooms']"
   ]
  },
  {
   "cell_type": "code",
   "execution_count": 52,
   "metadata": {
    "collapsed": true
   },
   "outputs": [],
   "source": [
    "df['rooms'].fillna(df.apply(get_rooms_by_median, axis = 1), inplace = True)"
   ]
  },
  {
   "cell_type": "code",
   "execution_count": 53,
   "metadata": {},
   "outputs": [
    {
     "data": {
      "text/plain": [
       "0"
      ]
     },
     "execution_count": 53,
     "metadata": {},
     "output_type": "execute_result"
    }
   ],
   "source": [
    "np.sum(df['rooms'].isnull())"
   ]
  },
  {
   "cell_type": "code",
   "execution_count": 54,
   "metadata": {
    "collapsed": true
   },
   "outputs": [],
   "source": [
    "df['rooms'] = df['rooms'].astype(int)"
   ]
  },
  {
   "cell_type": "code",
   "execution_count": 55,
   "metadata": {},
   "outputs": [
    {
     "data": {
      "text/plain": [
       "2    4254\n",
       "1    3809\n",
       "3    3645\n",
       "4    2038\n",
       "5     242\n",
       "6      89\n",
       "7       8\n",
       "8       3\n",
       "0       1\n",
       "Name: rooms, dtype: int64"
      ]
     },
     "execution_count": 55,
     "metadata": {},
     "output_type": "execute_result"
    }
   ],
   "source": [
    "df['rooms'].value_counts()"
   ]
  },
  {
   "cell_type": "code",
   "execution_count": 56,
   "metadata": {
    "collapsed": true
   },
   "outputs": [],
   "source": [
    "df = df[(df['rooms'] < 7) & (df['rooms'] !=0)]"
   ]
  },
  {
   "cell_type": "code",
   "execution_count": 57,
   "metadata": {
    "collapsed": true
   },
   "outputs": [],
   "source": [
    "df = df[(pd.notnull((df['lat']))) & (pd.notnull((df['lon']))) & (pd.notnull((df['neighbourhood']))) & pd.notnull((df['expenses']))]"
   ]
  },
  {
   "cell_type": "code",
   "execution_count": 58,
   "metadata": {},
   "outputs": [
    {
     "name": "stdout",
     "output_type": "stream",
     "text": [
      "<class 'pandas.core.frame.DataFrame'>\n",
      "Int64Index: 13987 entries, 0 to 14087\n",
      "Data columns (total 14 columns):\n",
      "index                  13987 non-null int64\n",
      "neighbourhood          13987 non-null object\n",
      "property_type          13987 non-null object\n",
      "lat-lon                10771 non-null object\n",
      "lat                    13987 non-null float64\n",
      "lon                    13987 non-null float64\n",
      "price                  13987 non-null float64\n",
      "price_aprox_usd        13987 non-null float64\n",
      "surface_total_in_m2    13987 non-null float64\n",
      "price_usd_per_m2       13987 non-null float64\n",
      "expenses               13987 non-null float64\n",
      "description            13987 non-null object\n",
      "title                  13987 non-null object\n",
      "rooms                  13987 non-null int64\n",
      "dtypes: float64(7), int64(2), object(5)\n",
      "memory usage: 1.6+ MB\n"
     ]
    }
   ],
   "source": [
    "df.info()"
   ]
  },
  {
   "cell_type": "code",
   "execution_count": 59,
   "metadata": {
    "collapsed": true
   },
   "outputs": [],
   "source": [
    "df.drop(df[['lat-lon']], axis = 1, inplace = True)"
   ]
  },
  {
   "cell_type": "code",
   "execution_count": 60,
   "metadata": {
    "collapsed": true
   },
   "outputs": [],
   "source": [
    "df['amenities'] = df['description'].str.extract('(amenities|amenitis|amenidades)',expand = False)\n",
    "df['garage'] = df['description'].str.extract('(cochera|cocheras|garage)',expand = False)"
   ]
  },
  {
   "cell_type": "code",
   "execution_count": 61,
   "metadata": {
    "collapsed": true
   },
   "outputs": [],
   "source": [
    "df['amenities'] = df['amenities'].str.replace('amenities','amenities')\n",
    "df['amenities'] = df['amenities'].str.replace('amenidades','amenities')\n",
    "df['amenities'] = df['amenities'].str.replace('amenitis','amenities')\n",
    "df['garage'] = df['garage'].str.replace('cochera','garage')"
   ]
  },
  {
   "cell_type": "code",
   "execution_count": 65,
   "metadata": {},
   "outputs": [],
   "source": [
    "a = pd.get_dummies(df['amenities'], prefix = 'a_')\n",
    "g = pd.get_dummies(df['garage'], prefix = 'g_')\n",
    "n = pd.get_dummies(df['neighbourhood'], drop_first = True, prefix = 'n_')"
   ]
  },
  {
   "cell_type": "code",
   "execution_count": 66,
   "metadata": {},
   "outputs": [],
   "source": [
    "df = a.join(df)"
   ]
  },
  {
   "cell_type": "code",
   "execution_count": 67,
   "metadata": {
    "collapsed": true
   },
   "outputs": [],
   "source": [
    "df = g.join(df)"
   ]
  },
  {
   "cell_type": "code",
   "execution_count": 68,
   "metadata": {
    "collapsed": true
   },
   "outputs": [],
   "source": [
    "df = n.join(df)"
   ]
  },
  {
   "cell_type": "code",
   "execution_count": 70,
   "metadata": {},
   "outputs": [
    {
     "data": {
      "text/plain": [
       "Index(['n__Agronomía', 'n__Almagro', 'n__Balvanera', 'n__Barracas',\n",
       "       'n__Barrio Norte', 'n__Belgrano', 'n__Boca', 'n__Boedo', 'n__Caballito',\n",
       "       'n__Centro / Microcentro', 'n__Chacarita', 'n__Coghlan',\n",
       "       'n__Colegiales', 'n__Congreso', 'n__Constitución', 'n__Flores',\n",
       "       'n__Floresta', 'n__Las Cañitas', 'n__Liniers', 'n__Mataderos',\n",
       "       'n__Monserrat', 'n__Monte Castro', 'n__Nuñez', 'n__Once', 'n__Palermo',\n",
       "       'n__Parque Avellaneda', 'n__Parque Centenario', 'n__Parque Chacabuco',\n",
       "       'n__Parque Patricios', 'n__Paternal', 'n__Puerto Madero', 'n__Recoleta',\n",
       "       'n__Retiro', 'n__Saavedra', 'n__San Cristobal', 'n__San Nicolás',\n",
       "       'n__San Telmo', 'n__Tribunales', 'n__Velez Sarsfield', 'n__Versalles',\n",
       "       'n__Villa Crespo', 'n__Villa Devoto', 'n__Villa General Mitre',\n",
       "       'n__Villa Lugano', 'n__Villa Luro', 'n__Villa Ortuzar',\n",
       "       'n__Villa Pueyrredón', 'n__Villa Real', 'n__Villa Santa Rita',\n",
       "       'n__Villa Urquiza', 'n__Villa del Parque', 'g__garage', 'a__amenities',\n",
       "       'index', 'neighbourhood', 'property_type', 'lat', 'lon', 'price',\n",
       "       'price_aprox_usd', 'surface_total_in_m2', 'price_usd_per_m2',\n",
       "       'expenses', 'description', 'title', 'rooms', 'amenities', 'garage'],\n",
       "      dtype='object')"
      ]
     },
     "execution_count": 70,
     "metadata": {},
     "output_type": "execute_result"
    }
   ],
   "source": [
    "df.columns"
   ]
  },
  {
   "cell_type": "code",
   "execution_count": 71,
   "metadata": {
    "collapsed": true
   },
   "outputs": [],
   "source": [
    "df.drop(df[['index']], axis = 1, inplace = True)"
   ]
  },
  {
   "cell_type": "code",
   "execution_count": 72,
   "metadata": {
    "collapsed": true
   },
   "outputs": [],
   "source": [
    "df.reset_index(inplace = True)"
   ]
  },
  {
   "cell_type": "code",
   "execution_count": 73,
   "metadata": {
    "collapsed": true
   },
   "outputs": [],
   "source": [
    "df.drop(df[['index']], axis = 1, inplace = True)"
   ]
  },
  {
   "cell_type": "code",
   "execution_count": 74,
   "metadata": {
    "collapsed": true,
    "scrolled": true
   },
   "outputs": [],
   "source": [
    "df.drop(df[['amenities','garage']], axis = 1, inplace = True)"
   ]
  },
  {
   "cell_type": "code",
   "execution_count": 75,
   "metadata": {
    "collapsed": true
   },
   "outputs": [],
   "source": [
    "df = df.drop(df[['description', 'title', 'property_type', 'neighbourhood','price_aprox_usd']], axis = 1)"
   ]
  },
  {
   "cell_type": "code",
   "execution_count": 79,
   "metadata": {
    "collapsed": true
   },
   "outputs": [],
   "source": [
    "from sklearn import linear_model, preprocessing\n",
    "from sklearn.model_selection import train_test_split\n",
    "from sklearn.metrics import r2_score, mean_squared_error"
   ]
  },
  {
   "cell_type": "code",
   "execution_count": 80,
   "metadata": {
    "collapsed": true
   },
   "outputs": [],
   "source": [
    "X = df.drop('price_usd_per_m2', axis = 1)\n",
    "y = df['price_usd_per_m2']"
   ]
  },
  {
   "cell_type": "code",
   "execution_count": 81,
   "metadata": {},
   "outputs": [
    {
     "data": {
      "text/plain": [
       "(13987, 59)"
      ]
     },
     "execution_count": 81,
     "metadata": {},
     "output_type": "execute_result"
    }
   ],
   "source": [
    "X.shape"
   ]
  },
  {
   "cell_type": "code",
   "execution_count": 82,
   "metadata": {},
   "outputs": [
    {
     "data": {
      "text/plain": [
       "(13987,)"
      ]
     },
     "execution_count": 82,
     "metadata": {},
     "output_type": "execute_result"
    }
   ],
   "source": [
    "y.shape"
   ]
  },
  {
   "cell_type": "code",
   "execution_count": 83,
   "metadata": {
    "collapsed": true
   },
   "outputs": [],
   "source": [
    "Xtrain, Xtest, ytrain, ytest = train_test_split(X, y)"
   ]
  },
  {
   "cell_type": "code",
   "execution_count": 84,
   "metadata": {
    "collapsed": true
   },
   "outputs": [],
   "source": [
    "lr = linear_model.LinearRegression(fit_intercept = True, normalize = True).fit(Xtrain, ytrain)\n",
    "lmrdg = linear_model.RidgeCV(fit_intercept = True, normalize = True).fit(Xtrain, ytrain)\n",
    "lmls = linear_model.LassoCV(fit_intercept = True, normalize = True).fit(Xtrain, ytrain)"
   ]
  },
  {
   "cell_type": "code",
   "execution_count": 85,
   "metadata": {},
   "outputs": [
    {
     "name": "stdout",
     "output_type": "stream",
     "text": [
      "R2 Score: 0.8353711255878417\n",
      "EMC: 74309.42\n"
     ]
    },
    {
     "data": {
      "image/png": "[encoded data removed]",
      "text/plain": [
       "<Figure size 432x288 with 1 Axes>"
      ]
     },
     "metadata": {},
     "output_type": "display_data"
    }
   ],
   "source": [
    "lr_predict = lr.predict(Xtest)\n",
    "print(\"R2 Score: \" + str(r2_score(ytest, lr_predict)))\n",
    "print(\"EMC: \" + str(mean_squared_error(ytest, lr_predict).round(decimals = 2)))\n",
    "\n",
    "plt.scatter(lr_predict, ytest, c=\"green\")\n",
    "plt.plot(y, y, c='black', lw = 3)\n",
    "plt.xlabel(\"Predictions\")\n",
    "plt.ylabel(\"Real Values\")\n",
    "plt.show()"
   ]
  },
  {
   "cell_type": "code",
   "execution_count": 86,
   "metadata": {},
   "outputs": [
    {
     "name": "stdout",
     "output_type": "stream",
     "text": [
      "R2 Score: 0.7628872000587769\n",
      "EMC: 107026.88\n"
     ]
    },
    {
     "data": {
      "image/png": "[encoded data removed]",
      "text/plain": [
       "<Figure size 432x288 with 1 Axes>"
      ]
     },
     "metadata": {},
     "output_type": "display_data"
    }
   ],
   "source": [
    "lmrdg_predict = lmrdg.predict(Xtest)\n",
    "print(\"R2 Score: \" + str(r2_score(ytest, lmrdg_predict)))\n",
    "print(\"EMC: \" + str(mean_squared_error(ytest, lmrdg_predict).round(decimals = 2)))\n",
    "\n",
    "plt.scatter(lmrdg_predict, ytest, c=\"blue\")\n",
    "plt.plot(y, y, c='black', lw = 3)\n",
    "plt.xlabel(\"Predictions\")\n",
    "plt.ylabel(\"Real Values\")\n",
    "plt.show()"
   ]
  },
  {
   "cell_type": "code",
   "execution_count": 87,
   "metadata": {},
   "outputs": [
    {
     "name": "stdout",
     "output_type": "stream",
     "text": [
      "R2 Score: 0.8356651432519979\n",
      "EMC: 74176.71\n"
     ]
    },
    {
     "data": {
      "image/png": "[encoded data removed]",
      "text/plain": [
       "<Figure size 432x288 with 1 Axes>"
      ]
     },
     "metadata": {},
     "output_type": "display_data"
    }
   ],
   "source": [
    "lmls_predict = lmls.predict(Xtest)\n",
    "print(\"R2 Score: \" + str(r2_score(ytest, lmls_predict)))\n",
    "print(\"EMC: \" + str(mean_squared_error(ytest, lmls_predict).round(decimals = 2)))\n",
    "\n",
    "plt.scatter(lmls_predict, ytest, c=\"orange\")\n",
    "plt.plot(y, y, c='black', lw = 3)\n",
    "plt.xlabel(\"Predictions\")\n",
    "plt.ylabel(\"Real Values\")\n",
    "plt.show()"
   ]
  },
  {
   "cell_type": "code",
   "execution_count": null,
   "metadata": {
    "collapsed": true
   },
   "outputs": [],
   "source": []
  }
 ],
 "metadata": {
  "kernelspec": {
   "display_name": "Python 3",
   "language": "python",
   "name": "python3"
  },
  "language_info": {
   "codemirror_mode": {
    "name": "ipython",
    "version": 3
   },
   "file_extension": ".py",
   "mimetype": "text/x-python",
   "name": "python",
   "nbconvert_exporter": "python",
   "pygments_lexer": "ipython3",
   "version": "3.6.4"
  }
 },
 "nbformat": 4,
 "nbformat_minor": 2
}
